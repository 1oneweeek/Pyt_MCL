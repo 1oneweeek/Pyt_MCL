{
  "nbformat": 4,
  "nbformat_minor": 0,
  "metadata": {
    "colab": {
      "provenance": [],
      "include_colab_link": true
    },
    "kernelspec": {
      "name": "python3",
      "display_name": "Python 3"
    },
    "language_info": {
      "name": "python"
    }
  },
  "cells": [
    {
      "cell_type": "markdown",
      "metadata": {
        "id": "view-in-github",
        "colab_type": "text"
      },
      "source": [
        "<a href=\"https://colab.research.google.com/github/1oneweeek/Pyt_MCL/blob/main/k-NN.ipynb\" target=\"_parent\"><img src=\"https://colab.research.google.com/assets/colab-badge.svg\" alt=\"Open In Colab\"/></a>"
      ]
    },
    {
      "cell_type": "code",
      "execution_count": 1,
      "metadata": {
        "id": "BFQUoXeZBAol"
      },
      "outputs": [],
      "source": [
        "import numpy as np\n",
        "import pandas as pd\n",
        "import matplotlib.pyplot as plt"
      ]
    },
    {
      "cell_type": "code",
      "source": [
        "df = pd.read_excel('https://drive.google.com/uc?export=download&id=13_rZ_nzqnABax0XFa_TpvDFcnXXLIjwl')\n",
        "df.head()"
      ],
      "metadata": {
        "colab": {
          "base_uri": "https://localhost:8080/",
          "height": 206
        },
        "id": "Ub4a3H4TBark",
        "outputId": "780b8d9c-5289-4c8e-a227-7e2e6239a2ca"
      },
      "execution_count": 2,
      "outputs": [
        {
          "output_type": "execute_result",
          "data": {
            "text/plain": [
              "  hair_loss  stay_up_late pressure_level  coffee_consumed  \\\n",
              "0       Few             2            Low                0   \n",
              "1       Few             0            Low                0   \n",
              "2    Medium             3            Low                1   \n",
              "3       Few             2            Low                0   \n",
              "4       Few             2            Low                0   \n",
              "\n",
              "   brain_working_duration stress_level swimming hair_washing dandruff  \n",
              "0                       1          Low       No            Y     None  \n",
              "1                       3          Low       No            N     None  \n",
              "2                       0          Low      Yes            Y     None  \n",
              "3                       1          Low       No            N     None  \n",
              "4                       1          Low       No            Y     None  "
            ],
            "text/html": [
              "\n",
              "\n",
              "  <div id=\"df-ee613a74-dbe8-4456-8c4c-804d3ae99098\">\n",
              "    <div class=\"colab-df-container\">\n",
              "      <div>\n",
              "<style scoped>\n",
              "    .dataframe tbody tr th:only-of-type {\n",
              "        vertical-align: middle;\n",
              "    }\n",
              "\n",
              "    .dataframe tbody tr th {\n",
              "        vertical-align: top;\n",
              "    }\n",
              "\n",
              "    .dataframe thead th {\n",
              "        text-align: right;\n",
              "    }\n",
              "</style>\n",
              "<table border=\"1\" class=\"dataframe\">\n",
              "  <thead>\n",
              "    <tr style=\"text-align: right;\">\n",
              "      <th></th>\n",
              "      <th>hair_loss</th>\n",
              "      <th>stay_up_late</th>\n",
              "      <th>pressure_level</th>\n",
              "      <th>coffee_consumed</th>\n",
              "      <th>brain_working_duration</th>\n",
              "      <th>stress_level</th>\n",
              "      <th>swimming</th>\n",
              "      <th>hair_washing</th>\n",
              "      <th>dandruff</th>\n",
              "    </tr>\n",
              "  </thead>\n",
              "  <tbody>\n",
              "    <tr>\n",
              "      <th>0</th>\n",
              "      <td>Few</td>\n",
              "      <td>2</td>\n",
              "      <td>Low</td>\n",
              "      <td>0</td>\n",
              "      <td>1</td>\n",
              "      <td>Low</td>\n",
              "      <td>No</td>\n",
              "      <td>Y</td>\n",
              "      <td>None</td>\n",
              "    </tr>\n",
              "    <tr>\n",
              "      <th>1</th>\n",
              "      <td>Few</td>\n",
              "      <td>0</td>\n",
              "      <td>Low</td>\n",
              "      <td>0</td>\n",
              "      <td>3</td>\n",
              "      <td>Low</td>\n",
              "      <td>No</td>\n",
              "      <td>N</td>\n",
              "      <td>None</td>\n",
              "    </tr>\n",
              "    <tr>\n",
              "      <th>2</th>\n",
              "      <td>Medium</td>\n",
              "      <td>3</td>\n",
              "      <td>Low</td>\n",
              "      <td>1</td>\n",
              "      <td>0</td>\n",
              "      <td>Low</td>\n",
              "      <td>Yes</td>\n",
              "      <td>Y</td>\n",
              "      <td>None</td>\n",
              "    </tr>\n",
              "    <tr>\n",
              "      <th>3</th>\n",
              "      <td>Few</td>\n",
              "      <td>2</td>\n",
              "      <td>Low</td>\n",
              "      <td>0</td>\n",
              "      <td>1</td>\n",
              "      <td>Low</td>\n",
              "      <td>No</td>\n",
              "      <td>N</td>\n",
              "      <td>None</td>\n",
              "    </tr>\n",
              "    <tr>\n",
              "      <th>4</th>\n",
              "      <td>Few</td>\n",
              "      <td>2</td>\n",
              "      <td>Low</td>\n",
              "      <td>0</td>\n",
              "      <td>1</td>\n",
              "      <td>Low</td>\n",
              "      <td>No</td>\n",
              "      <td>Y</td>\n",
              "      <td>None</td>\n",
              "    </tr>\n",
              "  </tbody>\n",
              "</table>\n",
              "</div>\n",
              "      <button class=\"colab-df-convert\" onclick=\"convertToInteractive('df-ee613a74-dbe8-4456-8c4c-804d3ae99098')\"\n",
              "              title=\"Convert this dataframe to an interactive table.\"\n",
              "              style=\"display:none;\">\n",
              "\n",
              "  <svg xmlns=\"http://www.w3.org/2000/svg\" height=\"24px\"viewBox=\"0 0 24 24\"\n",
              "       width=\"24px\">\n",
              "    <path d=\"M0 0h24v24H0V0z\" fill=\"none\"/>\n",
              "    <path d=\"M18.56 5.44l.94 2.06.94-2.06 2.06-.94-2.06-.94-.94-2.06-.94 2.06-2.06.94zm-11 1L8.5 8.5l.94-2.06 2.06-.94-2.06-.94L8.5 2.5l-.94 2.06-2.06.94zm10 10l.94 2.06.94-2.06 2.06-.94-2.06-.94-.94-2.06-.94 2.06-2.06.94z\"/><path d=\"M17.41 7.96l-1.37-1.37c-.4-.4-.92-.59-1.43-.59-.52 0-1.04.2-1.43.59L10.3 9.45l-7.72 7.72c-.78.78-.78 2.05 0 2.83L4 21.41c.39.39.9.59 1.41.59.51 0 1.02-.2 1.41-.59l7.78-7.78 2.81-2.81c.8-.78.8-2.07 0-2.86zM5.41 20L4 18.59l7.72-7.72 1.47 1.35L5.41 20z\"/>\n",
              "  </svg>\n",
              "      </button>\n",
              "\n",
              "\n",
              "\n",
              "    <div id=\"df-9fdc01fc-5abd-4a11-bd02-ef54e3cb6def\">\n",
              "      <button class=\"colab-df-quickchart\" onclick=\"quickchart('df-9fdc01fc-5abd-4a11-bd02-ef54e3cb6def')\"\n",
              "              title=\"Suggest charts.\"\n",
              "              style=\"display:none;\">\n",
              "\n",
              "<svg xmlns=\"http://www.w3.org/2000/svg\" height=\"24px\"viewBox=\"0 0 24 24\"\n",
              "     width=\"24px\">\n",
              "    <g>\n",
              "        <path d=\"M19 3H5c-1.1 0-2 .9-2 2v14c0 1.1.9 2 2 2h14c1.1 0 2-.9 2-2V5c0-1.1-.9-2-2-2zM9 17H7v-7h2v7zm4 0h-2V7h2v10zm4 0h-2v-4h2v4z\"/>\n",
              "    </g>\n",
              "</svg>\n",
              "      </button>\n",
              "    </div>\n",
              "\n",
              "<style>\n",
              "  .colab-df-quickchart {\n",
              "    background-color: #E8F0FE;\n",
              "    border: none;\n",
              "    border-radius: 50%;\n",
              "    cursor: pointer;\n",
              "    display: none;\n",
              "    fill: #1967D2;\n",
              "    height: 32px;\n",
              "    padding: 0 0 0 0;\n",
              "    width: 32px;\n",
              "  }\n",
              "\n",
              "  .colab-df-quickchart:hover {\n",
              "    background-color: #E2EBFA;\n",
              "    box-shadow: 0px 1px 2px rgba(60, 64, 67, 0.3), 0px 1px 3px 1px rgba(60, 64, 67, 0.15);\n",
              "    fill: #174EA6;\n",
              "  }\n",
              "\n",
              "  [theme=dark] .colab-df-quickchart {\n",
              "    background-color: #3B4455;\n",
              "    fill: #D2E3FC;\n",
              "  }\n",
              "\n",
              "  [theme=dark] .colab-df-quickchart:hover {\n",
              "    background-color: #434B5C;\n",
              "    box-shadow: 0px 1px 3px 1px rgba(0, 0, 0, 0.15);\n",
              "    filter: drop-shadow(0px 1px 2px rgba(0, 0, 0, 0.3));\n",
              "    fill: #FFFFFF;\n",
              "  }\n",
              "</style>\n",
              "\n",
              "    <script>\n",
              "      async function quickchart(key) {\n",
              "        const containerElement = document.querySelector('#' + key);\n",
              "        const charts = await google.colab.kernel.invokeFunction(\n",
              "            'suggestCharts', [key], {});\n",
              "      }\n",
              "    </script>\n",
              "\n",
              "      <script>\n",
              "\n",
              "function displayQuickchartButton(domScope) {\n",
              "  let quickchartButtonEl =\n",
              "    domScope.querySelector('#df-9fdc01fc-5abd-4a11-bd02-ef54e3cb6def button.colab-df-quickchart');\n",
              "  quickchartButtonEl.style.display =\n",
              "    google.colab.kernel.accessAllowed ? 'block' : 'none';\n",
              "}\n",
              "\n",
              "        displayQuickchartButton(document);\n",
              "      </script>\n",
              "      <style>\n",
              "    .colab-df-container {\n",
              "      display:flex;\n",
              "      flex-wrap:wrap;\n",
              "      gap: 12px;\n",
              "    }\n",
              "\n",
              "    .colab-df-convert {\n",
              "      background-color: #E8F0FE;\n",
              "      border: none;\n",
              "      border-radius: 50%;\n",
              "      cursor: pointer;\n",
              "      display: none;\n",
              "      fill: #1967D2;\n",
              "      height: 32px;\n",
              "      padding: 0 0 0 0;\n",
              "      width: 32px;\n",
              "    }\n",
              "\n",
              "    .colab-df-convert:hover {\n",
              "      background-color: #E2EBFA;\n",
              "      box-shadow: 0px 1px 2px rgba(60, 64, 67, 0.3), 0px 1px 3px 1px rgba(60, 64, 67, 0.15);\n",
              "      fill: #174EA6;\n",
              "    }\n",
              "\n",
              "    [theme=dark] .colab-df-convert {\n",
              "      background-color: #3B4455;\n",
              "      fill: #D2E3FC;\n",
              "    }\n",
              "\n",
              "    [theme=dark] .colab-df-convert:hover {\n",
              "      background-color: #434B5C;\n",
              "      box-shadow: 0px 1px 3px 1px rgba(0, 0, 0, 0.15);\n",
              "      filter: drop-shadow(0px 1px 2px rgba(0, 0, 0, 0.3));\n",
              "      fill: #FFFFFF;\n",
              "    }\n",
              "  </style>\n",
              "\n",
              "      <script>\n",
              "        const buttonEl =\n",
              "          document.querySelector('#df-ee613a74-dbe8-4456-8c4c-804d3ae99098 button.colab-df-convert');\n",
              "        buttonEl.style.display =\n",
              "          google.colab.kernel.accessAllowed ? 'block' : 'none';\n",
              "\n",
              "        async function convertToInteractive(key) {\n",
              "          const element = document.querySelector('#df-ee613a74-dbe8-4456-8c4c-804d3ae99098');\n",
              "          const dataTable =\n",
              "            await google.colab.kernel.invokeFunction('convertToInteractive',\n",
              "                                                     [key], {});\n",
              "          if (!dataTable) return;\n",
              "\n",
              "          const docLinkHtml = 'Like what you see? Visit the ' +\n",
              "            '<a target=\"_blank\" href=https://colab.research.google.com/notebooks/data_table.ipynb>data table notebook</a>'\n",
              "            + ' to learn more about interactive tables.';\n",
              "          element.innerHTML = '';\n",
              "          dataTable['output_type'] = 'display_data';\n",
              "          await google.colab.output.renderOutput(dataTable, element);\n",
              "          const docLink = document.createElement('div');\n",
              "          docLink.innerHTML = docLinkHtml;\n",
              "          element.appendChild(docLink);\n",
              "        }\n",
              "      </script>\n",
              "    </div>\n",
              "  </div>\n"
            ]
          },
          "metadata": {},
          "execution_count": 2
        }
      ]
    },
    {
      "cell_type": "code",
      "source": [
        "print(df[\"hair_loss\"].value_counts())\n",
        "print(df[\"pressure_level\"].value_counts())\n",
        "print(df[\"stress_level\"].value_counts())\n",
        "print(df[\"swimming\"].value_counts())\n",
        "print(df[\"hair_washing\"].value_counts())\n",
        "print(df[\"dandruff\"].value_counts())"
      ],
      "metadata": {
        "colab": {
          "base_uri": "https://localhost:8080/"
        },
        "id": "e51cY7BDnKJq",
        "outputId": "d10277b5-3fb0-4820-e072-83119a371522"
      },
      "execution_count": 3,
      "outputs": [
        {
          "output_type": "stream",
          "name": "stdout",
          "text": [
            "Few       169\n",
            "Medium    167\n",
            "Many       42\n",
            "A lot      22\n",
            "Name: hair_loss, dtype: int64\n",
            "Low          275\n",
            "Medium        57\n",
            "High          45\n",
            "Very High     23\n",
            "Name: pressure_level, dtype: int64\n",
            "Low          261\n",
            "Medium        56\n",
            "High          45\n",
            "Very High     38\n",
            "Name: stress_level, dtype: int64\n",
            "No     307\n",
            "Yes     93\n",
            "Name: swimming, dtype: int64\n",
            "N    209\n",
            "Y    191\n",
            "Name: hair_washing, dtype: int64\n",
            "None    289\n",
            "Few      76\n",
            "Many     35\n",
            "Name: dandruff, dtype: int64\n"
          ]
        }
      ]
    },
    {
      "cell_type": "code",
      "source": [
        "df.isnull().sum()"
      ],
      "metadata": {
        "colab": {
          "base_uri": "https://localhost:8080/"
        },
        "id": "pPF7cFStnIWq",
        "outputId": "8f83f33f-1e21-4cf5-8575-1d9956c5ebf1"
      },
      "execution_count": 4,
      "outputs": [
        {
          "output_type": "execute_result",
          "data": {
            "text/plain": [
              "hair_loss                 0\n",
              "stay_up_late              0\n",
              "pressure_level            0\n",
              "coffee_consumed           0\n",
              "brain_working_duration    0\n",
              "stress_level              0\n",
              "swimming                  0\n",
              "hair_washing              0\n",
              "dandruff                  0\n",
              "dtype: int64"
            ]
          },
          "metadata": {},
          "execution_count": 4
        }
      ]
    },
    {
      "cell_type": "code",
      "source": [
        "# 데이터 전처리하기\n",
        "df['dandruff'].replace('None',0,inplace=True)\n",
        "df['dandruff'].replace('Few',1,inplace=True)\n",
        "df['dandruff'].replace('Many',2, inplace=True)\n",
        "\n",
        "df['hair_loss'].replace(\"Few\", 0, inplace=True)\n",
        "df['hair_loss'].replace(\"Medium\", 1, inplace=True)\n",
        "df['hair_loss'].replace(\"Many\", 2, inplace=True)\n",
        "df['hair_loss'].replace(\"A lot\", 3, inplace=True)\n",
        "\n",
        "df['swimming'].replace('Yes', 1, inplace=True)\n",
        "df['swimming'].replace('No', 0, inplace=True)\n",
        "\n",
        "df['hair_washing'].replace('Y', 1, inplace=True)\n",
        "df['hair_washing'].replace('N', 0, inplace=True)\n",
        "\n",
        "df.replace('Low', 0, inplace=True)\n",
        "df.replace('Medium', 1, inplace=True)\n",
        "df.replace('High', 2, inplace=True)\n",
        "df.replace('Very High', 3, inplace=True)\n",
        "\n",
        "df.head()"
      ],
      "metadata": {
        "colab": {
          "base_uri": "https://localhost:8080/",
          "height": 206
        },
        "id": "_vKg0P60BnVO",
        "outputId": "bf30d044-257f-4932-96f6-d7ef4bc6eb43"
      },
      "execution_count": 5,
      "outputs": [
        {
          "output_type": "execute_result",
          "data": {
            "text/plain": [
              "   hair_loss  stay_up_late  pressure_level  coffee_consumed  \\\n",
              "0          0             2               0                0   \n",
              "1          0             0               0                0   \n",
              "2          1             3               0                1   \n",
              "3          0             2               0                0   \n",
              "4          0             2               0                0   \n",
              "\n",
              "   brain_working_duration  stress_level  swimming  hair_washing  dandruff  \n",
              "0                       1             0         0             1         0  \n",
              "1                       3             0         0             0         0  \n",
              "2                       0             0         1             1         0  \n",
              "3                       1             0         0             0         0  \n",
              "4                       1             0         0             1         0  "
            ],
            "text/html": [
              "\n",
              "\n",
              "  <div id=\"df-0557ea6b-3c64-46ae-95ae-779f14269d00\">\n",
              "    <div class=\"colab-df-container\">\n",
              "      <div>\n",
              "<style scoped>\n",
              "    .dataframe tbody tr th:only-of-type {\n",
              "        vertical-align: middle;\n",
              "    }\n",
              "\n",
              "    .dataframe tbody tr th {\n",
              "        vertical-align: top;\n",
              "    }\n",
              "\n",
              "    .dataframe thead th {\n",
              "        text-align: right;\n",
              "    }\n",
              "</style>\n",
              "<table border=\"1\" class=\"dataframe\">\n",
              "  <thead>\n",
              "    <tr style=\"text-align: right;\">\n",
              "      <th></th>\n",
              "      <th>hair_loss</th>\n",
              "      <th>stay_up_late</th>\n",
              "      <th>pressure_level</th>\n",
              "      <th>coffee_consumed</th>\n",
              "      <th>brain_working_duration</th>\n",
              "      <th>stress_level</th>\n",
              "      <th>swimming</th>\n",
              "      <th>hair_washing</th>\n",
              "      <th>dandruff</th>\n",
              "    </tr>\n",
              "  </thead>\n",
              "  <tbody>\n",
              "    <tr>\n",
              "      <th>0</th>\n",
              "      <td>0</td>\n",
              "      <td>2</td>\n",
              "      <td>0</td>\n",
              "      <td>0</td>\n",
              "      <td>1</td>\n",
              "      <td>0</td>\n",
              "      <td>0</td>\n",
              "      <td>1</td>\n",
              "      <td>0</td>\n",
              "    </tr>\n",
              "    <tr>\n",
              "      <th>1</th>\n",
              "      <td>0</td>\n",
              "      <td>0</td>\n",
              "      <td>0</td>\n",
              "      <td>0</td>\n",
              "      <td>3</td>\n",
              "      <td>0</td>\n",
              "      <td>0</td>\n",
              "      <td>0</td>\n",
              "      <td>0</td>\n",
              "    </tr>\n",
              "    <tr>\n",
              "      <th>2</th>\n",
              "      <td>1</td>\n",
              "      <td>3</td>\n",
              "      <td>0</td>\n",
              "      <td>1</td>\n",
              "      <td>0</td>\n",
              "      <td>0</td>\n",
              "      <td>1</td>\n",
              "      <td>1</td>\n",
              "      <td>0</td>\n",
              "    </tr>\n",
              "    <tr>\n",
              "      <th>3</th>\n",
              "      <td>0</td>\n",
              "      <td>2</td>\n",
              "      <td>0</td>\n",
              "      <td>0</td>\n",
              "      <td>1</td>\n",
              "      <td>0</td>\n",
              "      <td>0</td>\n",
              "      <td>0</td>\n",
              "      <td>0</td>\n",
              "    </tr>\n",
              "    <tr>\n",
              "      <th>4</th>\n",
              "      <td>0</td>\n",
              "      <td>2</td>\n",
              "      <td>0</td>\n",
              "      <td>0</td>\n",
              "      <td>1</td>\n",
              "      <td>0</td>\n",
              "      <td>0</td>\n",
              "      <td>1</td>\n",
              "      <td>0</td>\n",
              "    </tr>\n",
              "  </tbody>\n",
              "</table>\n",
              "</div>\n",
              "      <button class=\"colab-df-convert\" onclick=\"convertToInteractive('df-0557ea6b-3c64-46ae-95ae-779f14269d00')\"\n",
              "              title=\"Convert this dataframe to an interactive table.\"\n",
              "              style=\"display:none;\">\n",
              "\n",
              "  <svg xmlns=\"http://www.w3.org/2000/svg\" height=\"24px\"viewBox=\"0 0 24 24\"\n",
              "       width=\"24px\">\n",
              "    <path d=\"M0 0h24v24H0V0z\" fill=\"none\"/>\n",
              "    <path d=\"M18.56 5.44l.94 2.06.94-2.06 2.06-.94-2.06-.94-.94-2.06-.94 2.06-2.06.94zm-11 1L8.5 8.5l.94-2.06 2.06-.94-2.06-.94L8.5 2.5l-.94 2.06-2.06.94zm10 10l.94 2.06.94-2.06 2.06-.94-2.06-.94-.94-2.06-.94 2.06-2.06.94z\"/><path d=\"M17.41 7.96l-1.37-1.37c-.4-.4-.92-.59-1.43-.59-.52 0-1.04.2-1.43.59L10.3 9.45l-7.72 7.72c-.78.78-.78 2.05 0 2.83L4 21.41c.39.39.9.59 1.41.59.51 0 1.02-.2 1.41-.59l7.78-7.78 2.81-2.81c.8-.78.8-2.07 0-2.86zM5.41 20L4 18.59l7.72-7.72 1.47 1.35L5.41 20z\"/>\n",
              "  </svg>\n",
              "      </button>\n",
              "\n",
              "\n",
              "\n",
              "    <div id=\"df-0ba2b590-e9f8-40c7-916c-dc103d5e2bc7\">\n",
              "      <button class=\"colab-df-quickchart\" onclick=\"quickchart('df-0ba2b590-e9f8-40c7-916c-dc103d5e2bc7')\"\n",
              "              title=\"Suggest charts.\"\n",
              "              style=\"display:none;\">\n",
              "\n",
              "<svg xmlns=\"http://www.w3.org/2000/svg\" height=\"24px\"viewBox=\"0 0 24 24\"\n",
              "     width=\"24px\">\n",
              "    <g>\n",
              "        <path d=\"M19 3H5c-1.1 0-2 .9-2 2v14c0 1.1.9 2 2 2h14c1.1 0 2-.9 2-2V5c0-1.1-.9-2-2-2zM9 17H7v-7h2v7zm4 0h-2V7h2v10zm4 0h-2v-4h2v4z\"/>\n",
              "    </g>\n",
              "</svg>\n",
              "      </button>\n",
              "    </div>\n",
              "\n",
              "<style>\n",
              "  .colab-df-quickchart {\n",
              "    background-color: #E8F0FE;\n",
              "    border: none;\n",
              "    border-radius: 50%;\n",
              "    cursor: pointer;\n",
              "    display: none;\n",
              "    fill: #1967D2;\n",
              "    height: 32px;\n",
              "    padding: 0 0 0 0;\n",
              "    width: 32px;\n",
              "  }\n",
              "\n",
              "  .colab-df-quickchart:hover {\n",
              "    background-color: #E2EBFA;\n",
              "    box-shadow: 0px 1px 2px rgba(60, 64, 67, 0.3), 0px 1px 3px 1px rgba(60, 64, 67, 0.15);\n",
              "    fill: #174EA6;\n",
              "  }\n",
              "\n",
              "  [theme=dark] .colab-df-quickchart {\n",
              "    background-color: #3B4455;\n",
              "    fill: #D2E3FC;\n",
              "  }\n",
              "\n",
              "  [theme=dark] .colab-df-quickchart:hover {\n",
              "    background-color: #434B5C;\n",
              "    box-shadow: 0px 1px 3px 1px rgba(0, 0, 0, 0.15);\n",
              "    filter: drop-shadow(0px 1px 2px rgba(0, 0, 0, 0.3));\n",
              "    fill: #FFFFFF;\n",
              "  }\n",
              "</style>\n",
              "\n",
              "    <script>\n",
              "      async function quickchart(key) {\n",
              "        const containerElement = document.querySelector('#' + key);\n",
              "        const charts = await google.colab.kernel.invokeFunction(\n",
              "            'suggestCharts', [key], {});\n",
              "      }\n",
              "    </script>\n",
              "\n",
              "      <script>\n",
              "\n",
              "function displayQuickchartButton(domScope) {\n",
              "  let quickchartButtonEl =\n",
              "    domScope.querySelector('#df-0ba2b590-e9f8-40c7-916c-dc103d5e2bc7 button.colab-df-quickchart');\n",
              "  quickchartButtonEl.style.display =\n",
              "    google.colab.kernel.accessAllowed ? 'block' : 'none';\n",
              "}\n",
              "\n",
              "        displayQuickchartButton(document);\n",
              "      </script>\n",
              "      <style>\n",
              "    .colab-df-container {\n",
              "      display:flex;\n",
              "      flex-wrap:wrap;\n",
              "      gap: 12px;\n",
              "    }\n",
              "\n",
              "    .colab-df-convert {\n",
              "      background-color: #E8F0FE;\n",
              "      border: none;\n",
              "      border-radius: 50%;\n",
              "      cursor: pointer;\n",
              "      display: none;\n",
              "      fill: #1967D2;\n",
              "      height: 32px;\n",
              "      padding: 0 0 0 0;\n",
              "      width: 32px;\n",
              "    }\n",
              "\n",
              "    .colab-df-convert:hover {\n",
              "      background-color: #E2EBFA;\n",
              "      box-shadow: 0px 1px 2px rgba(60, 64, 67, 0.3), 0px 1px 3px 1px rgba(60, 64, 67, 0.15);\n",
              "      fill: #174EA6;\n",
              "    }\n",
              "\n",
              "    [theme=dark] .colab-df-convert {\n",
              "      background-color: #3B4455;\n",
              "      fill: #D2E3FC;\n",
              "    }\n",
              "\n",
              "    [theme=dark] .colab-df-convert:hover {\n",
              "      background-color: #434B5C;\n",
              "      box-shadow: 0px 1px 3px 1px rgba(0, 0, 0, 0.15);\n",
              "      filter: drop-shadow(0px 1px 2px rgba(0, 0, 0, 0.3));\n",
              "      fill: #FFFFFF;\n",
              "    }\n",
              "  </style>\n",
              "\n",
              "      <script>\n",
              "        const buttonEl =\n",
              "          document.querySelector('#df-0557ea6b-3c64-46ae-95ae-779f14269d00 button.colab-df-convert');\n",
              "        buttonEl.style.display =\n",
              "          google.colab.kernel.accessAllowed ? 'block' : 'none';\n",
              "\n",
              "        async function convertToInteractive(key) {\n",
              "          const element = document.querySelector('#df-0557ea6b-3c64-46ae-95ae-779f14269d00');\n",
              "          const dataTable =\n",
              "            await google.colab.kernel.invokeFunction('convertToInteractive',\n",
              "                                                     [key], {});\n",
              "          if (!dataTable) return;\n",
              "\n",
              "          const docLinkHtml = 'Like what you see? Visit the ' +\n",
              "            '<a target=\"_blank\" href=https://colab.research.google.com/notebooks/data_table.ipynb>data table notebook</a>'\n",
              "            + ' to learn more about interactive tables.';\n",
              "          element.innerHTML = '';\n",
              "          dataTable['output_type'] = 'display_data';\n",
              "          await google.colab.output.renderOutput(dataTable, element);\n",
              "          const docLink = document.createElement('div');\n",
              "          docLink.innerHTML = docLinkHtml;\n",
              "          element.appendChild(docLink);\n",
              "        }\n",
              "      </script>\n",
              "    </div>\n",
              "  </div>\n"
            ]
          },
          "metadata": {},
          "execution_count": 5
        }
      ]
    },
    {
      "cell_type": "code",
      "source": [
        "df.info()"
      ],
      "metadata": {
        "colab": {
          "base_uri": "https://localhost:8080/"
        },
        "id": "djXR0ETUCeSc",
        "outputId": "725ca394-f772-491b-8174-034ad64b1631"
      },
      "execution_count": 6,
      "outputs": [
        {
          "output_type": "stream",
          "name": "stdout",
          "text": [
            "<class 'pandas.core.frame.DataFrame'>\n",
            "RangeIndex: 400 entries, 0 to 399\n",
            "Data columns (total 9 columns):\n",
            " #   Column                  Non-Null Count  Dtype\n",
            "---  ------                  --------------  -----\n",
            " 0   hair_loss               400 non-null    int64\n",
            " 1   stay_up_late            400 non-null    int64\n",
            " 2   pressure_level          400 non-null    int64\n",
            " 3   coffee_consumed         400 non-null    int64\n",
            " 4   brain_working_duration  400 non-null    int64\n",
            " 5   stress_level            400 non-null    int64\n",
            " 6   swimming                400 non-null    int64\n",
            " 7   hair_washing            400 non-null    int64\n",
            " 8   dandruff                400 non-null    int64\n",
            "dtypes: int64(9)\n",
            "memory usage: 28.2 KB\n"
          ]
        }
      ]
    },
    {
      "cell_type": "code",
      "source": [
        "X_df= df.drop('hair_loss', axis=1)"
      ],
      "metadata": {
        "id": "oouuJNCwClI0"
      },
      "execution_count": 7,
      "outputs": []
    },
    {
      "cell_type": "code",
      "source": [
        "X_df.head()"
      ],
      "metadata": {
        "id": "F9NloI1JMVH2",
        "colab": {
          "base_uri": "https://localhost:8080/",
          "height": 206
        },
        "outputId": "0878313f-027c-4508-db96-502cf124c7ba"
      },
      "execution_count": 8,
      "outputs": [
        {
          "output_type": "execute_result",
          "data": {
            "text/plain": [
              "   stay_up_late  pressure_level  coffee_consumed  brain_working_duration  \\\n",
              "0             2               0                0                       1   \n",
              "1             0               0                0                       3   \n",
              "2             3               0                1                       0   \n",
              "3             2               0                0                       1   \n",
              "4             2               0                0                       1   \n",
              "\n",
              "   stress_level  swimming  hair_washing  dandruff  \n",
              "0             0         0             1         0  \n",
              "1             0         0             0         0  \n",
              "2             0         1             1         0  \n",
              "3             0         0             0         0  \n",
              "4             0         0             1         0  "
            ],
            "text/html": [
              "\n",
              "\n",
              "  <div id=\"df-4bcf31a5-4105-4737-b33c-381a7a583d9f\">\n",
              "    <div class=\"colab-df-container\">\n",
              "      <div>\n",
              "<style scoped>\n",
              "    .dataframe tbody tr th:only-of-type {\n",
              "        vertical-align: middle;\n",
              "    }\n",
              "\n",
              "    .dataframe tbody tr th {\n",
              "        vertical-align: top;\n",
              "    }\n",
              "\n",
              "    .dataframe thead th {\n",
              "        text-align: right;\n",
              "    }\n",
              "</style>\n",
              "<table border=\"1\" class=\"dataframe\">\n",
              "  <thead>\n",
              "    <tr style=\"text-align: right;\">\n",
              "      <th></th>\n",
              "      <th>stay_up_late</th>\n",
              "      <th>pressure_level</th>\n",
              "      <th>coffee_consumed</th>\n",
              "      <th>brain_working_duration</th>\n",
              "      <th>stress_level</th>\n",
              "      <th>swimming</th>\n",
              "      <th>hair_washing</th>\n",
              "      <th>dandruff</th>\n",
              "    </tr>\n",
              "  </thead>\n",
              "  <tbody>\n",
              "    <tr>\n",
              "      <th>0</th>\n",
              "      <td>2</td>\n",
              "      <td>0</td>\n",
              "      <td>0</td>\n",
              "      <td>1</td>\n",
              "      <td>0</td>\n",
              "      <td>0</td>\n",
              "      <td>1</td>\n",
              "      <td>0</td>\n",
              "    </tr>\n",
              "    <tr>\n",
              "      <th>1</th>\n",
              "      <td>0</td>\n",
              "      <td>0</td>\n",
              "      <td>0</td>\n",
              "      <td>3</td>\n",
              "      <td>0</td>\n",
              "      <td>0</td>\n",
              "      <td>0</td>\n",
              "      <td>0</td>\n",
              "    </tr>\n",
              "    <tr>\n",
              "      <th>2</th>\n",
              "      <td>3</td>\n",
              "      <td>0</td>\n",
              "      <td>1</td>\n",
              "      <td>0</td>\n",
              "      <td>0</td>\n",
              "      <td>1</td>\n",
              "      <td>1</td>\n",
              "      <td>0</td>\n",
              "    </tr>\n",
              "    <tr>\n",
              "      <th>3</th>\n",
              "      <td>2</td>\n",
              "      <td>0</td>\n",
              "      <td>0</td>\n",
              "      <td>1</td>\n",
              "      <td>0</td>\n",
              "      <td>0</td>\n",
              "      <td>0</td>\n",
              "      <td>0</td>\n",
              "    </tr>\n",
              "    <tr>\n",
              "      <th>4</th>\n",
              "      <td>2</td>\n",
              "      <td>0</td>\n",
              "      <td>0</td>\n",
              "      <td>1</td>\n",
              "      <td>0</td>\n",
              "      <td>0</td>\n",
              "      <td>1</td>\n",
              "      <td>0</td>\n",
              "    </tr>\n",
              "  </tbody>\n",
              "</table>\n",
              "</div>\n",
              "      <button class=\"colab-df-convert\" onclick=\"convertToInteractive('df-4bcf31a5-4105-4737-b33c-381a7a583d9f')\"\n",
              "              title=\"Convert this dataframe to an interactive table.\"\n",
              "              style=\"display:none;\">\n",
              "\n",
              "  <svg xmlns=\"http://www.w3.org/2000/svg\" height=\"24px\"viewBox=\"0 0 24 24\"\n",
              "       width=\"24px\">\n",
              "    <path d=\"M0 0h24v24H0V0z\" fill=\"none\"/>\n",
              "    <path d=\"M18.56 5.44l.94 2.06.94-2.06 2.06-.94-2.06-.94-.94-2.06-.94 2.06-2.06.94zm-11 1L8.5 8.5l.94-2.06 2.06-.94-2.06-.94L8.5 2.5l-.94 2.06-2.06.94zm10 10l.94 2.06.94-2.06 2.06-.94-2.06-.94-.94-2.06-.94 2.06-2.06.94z\"/><path d=\"M17.41 7.96l-1.37-1.37c-.4-.4-.92-.59-1.43-.59-.52 0-1.04.2-1.43.59L10.3 9.45l-7.72 7.72c-.78.78-.78 2.05 0 2.83L4 21.41c.39.39.9.59 1.41.59.51 0 1.02-.2 1.41-.59l7.78-7.78 2.81-2.81c.8-.78.8-2.07 0-2.86zM5.41 20L4 18.59l7.72-7.72 1.47 1.35L5.41 20z\"/>\n",
              "  </svg>\n",
              "      </button>\n",
              "\n",
              "\n",
              "\n",
              "    <div id=\"df-bc126aa4-0b65-47c0-98d2-a07bc8148553\">\n",
              "      <button class=\"colab-df-quickchart\" onclick=\"quickchart('df-bc126aa4-0b65-47c0-98d2-a07bc8148553')\"\n",
              "              title=\"Suggest charts.\"\n",
              "              style=\"display:none;\">\n",
              "\n",
              "<svg xmlns=\"http://www.w3.org/2000/svg\" height=\"24px\"viewBox=\"0 0 24 24\"\n",
              "     width=\"24px\">\n",
              "    <g>\n",
              "        <path d=\"M19 3H5c-1.1 0-2 .9-2 2v14c0 1.1.9 2 2 2h14c1.1 0 2-.9 2-2V5c0-1.1-.9-2-2-2zM9 17H7v-7h2v7zm4 0h-2V7h2v10zm4 0h-2v-4h2v4z\"/>\n",
              "    </g>\n",
              "</svg>\n",
              "      </button>\n",
              "    </div>\n",
              "\n",
              "<style>\n",
              "  .colab-df-quickchart {\n",
              "    background-color: #E8F0FE;\n",
              "    border: none;\n",
              "    border-radius: 50%;\n",
              "    cursor: pointer;\n",
              "    display: none;\n",
              "    fill: #1967D2;\n",
              "    height: 32px;\n",
              "    padding: 0 0 0 0;\n",
              "    width: 32px;\n",
              "  }\n",
              "\n",
              "  .colab-df-quickchart:hover {\n",
              "    background-color: #E2EBFA;\n",
              "    box-shadow: 0px 1px 2px rgba(60, 64, 67, 0.3), 0px 1px 3px 1px rgba(60, 64, 67, 0.15);\n",
              "    fill: #174EA6;\n",
              "  }\n",
              "\n",
              "  [theme=dark] .colab-df-quickchart {\n",
              "    background-color: #3B4455;\n",
              "    fill: #D2E3FC;\n",
              "  }\n",
              "\n",
              "  [theme=dark] .colab-df-quickchart:hover {\n",
              "    background-color: #434B5C;\n",
              "    box-shadow: 0px 1px 3px 1px rgba(0, 0, 0, 0.15);\n",
              "    filter: drop-shadow(0px 1px 2px rgba(0, 0, 0, 0.3));\n",
              "    fill: #FFFFFF;\n",
              "  }\n",
              "</style>\n",
              "\n",
              "    <script>\n",
              "      async function quickchart(key) {\n",
              "        const containerElement = document.querySelector('#' + key);\n",
              "        const charts = await google.colab.kernel.invokeFunction(\n",
              "            'suggestCharts', [key], {});\n",
              "      }\n",
              "    </script>\n",
              "\n",
              "      <script>\n",
              "\n",
              "function displayQuickchartButton(domScope) {\n",
              "  let quickchartButtonEl =\n",
              "    domScope.querySelector('#df-bc126aa4-0b65-47c0-98d2-a07bc8148553 button.colab-df-quickchart');\n",
              "  quickchartButtonEl.style.display =\n",
              "    google.colab.kernel.accessAllowed ? 'block' : 'none';\n",
              "}\n",
              "\n",
              "        displayQuickchartButton(document);\n",
              "      </script>\n",
              "      <style>\n",
              "    .colab-df-container {\n",
              "      display:flex;\n",
              "      flex-wrap:wrap;\n",
              "      gap: 12px;\n",
              "    }\n",
              "\n",
              "    .colab-df-convert {\n",
              "      background-color: #E8F0FE;\n",
              "      border: none;\n",
              "      border-radius: 50%;\n",
              "      cursor: pointer;\n",
              "      display: none;\n",
              "      fill: #1967D2;\n",
              "      height: 32px;\n",
              "      padding: 0 0 0 0;\n",
              "      width: 32px;\n",
              "    }\n",
              "\n",
              "    .colab-df-convert:hover {\n",
              "      background-color: #E2EBFA;\n",
              "      box-shadow: 0px 1px 2px rgba(60, 64, 67, 0.3), 0px 1px 3px 1px rgba(60, 64, 67, 0.15);\n",
              "      fill: #174EA6;\n",
              "    }\n",
              "\n",
              "    [theme=dark] .colab-df-convert {\n",
              "      background-color: #3B4455;\n",
              "      fill: #D2E3FC;\n",
              "    }\n",
              "\n",
              "    [theme=dark] .colab-df-convert:hover {\n",
              "      background-color: #434B5C;\n",
              "      box-shadow: 0px 1px 3px 1px rgba(0, 0, 0, 0.15);\n",
              "      filter: drop-shadow(0px 1px 2px rgba(0, 0, 0, 0.3));\n",
              "      fill: #FFFFFF;\n",
              "    }\n",
              "  </style>\n",
              "\n",
              "      <script>\n",
              "        const buttonEl =\n",
              "          document.querySelector('#df-4bcf31a5-4105-4737-b33c-381a7a583d9f button.colab-df-convert');\n",
              "        buttonEl.style.display =\n",
              "          google.colab.kernel.accessAllowed ? 'block' : 'none';\n",
              "\n",
              "        async function convertToInteractive(key) {\n",
              "          const element = document.querySelector('#df-4bcf31a5-4105-4737-b33c-381a7a583d9f');\n",
              "          const dataTable =\n",
              "            await google.colab.kernel.invokeFunction('convertToInteractive',\n",
              "                                                     [key], {});\n",
              "          if (!dataTable) return;\n",
              "\n",
              "          const docLinkHtml = 'Like what you see? Visit the ' +\n",
              "            '<a target=\"_blank\" href=https://colab.research.google.com/notebooks/data_table.ipynb>data table notebook</a>'\n",
              "            + ' to learn more about interactive tables.';\n",
              "          element.innerHTML = '';\n",
              "          dataTable['output_type'] = 'display_data';\n",
              "          await google.colab.output.renderOutput(dataTable, element);\n",
              "          const docLink = document.createElement('div');\n",
              "          docLink.innerHTML = docLinkHtml;\n",
              "          element.appendChild(docLink);\n",
              "        }\n",
              "      </script>\n",
              "    </div>\n",
              "  </div>\n"
            ]
          },
          "metadata": {},
          "execution_count": 8
        }
      ]
    },
    {
      "cell_type": "code",
      "source": [
        "#독립 변수 분리\n",
        "X_data = X_df.to_numpy()\n",
        "X_data.shape"
      ],
      "metadata": {
        "colab": {
          "base_uri": "https://localhost:8080/"
        },
        "id": "2bRD5vyUoH26",
        "outputId": "a0b01442-b397-4fa1-be5e-fbd57ae5a809"
      },
      "execution_count": 9,
      "outputs": [
        {
          "output_type": "execute_result",
          "data": {
            "text/plain": [
              "(400, 8)"
            ]
          },
          "metadata": {},
          "execution_count": 9
        }
      ]
    },
    {
      "cell_type": "code",
      "source": [
        "#종속 변수 분리\n",
        "Y_data = df['hair_loss'].to_numpy()\n",
        "Y_data.shape"
      ],
      "metadata": {
        "colab": {
          "base_uri": "https://localhost:8080/"
        },
        "id": "QtC_VFj9Cm7T",
        "outputId": "5c59cfe3-aa77-4ae5-a403-681662abf4dc"
      },
      "execution_count": 10,
      "outputs": [
        {
          "output_type": "execute_result",
          "data": {
            "text/plain": [
              "(400,)"
            ]
          },
          "metadata": {},
          "execution_count": 10
        }
      ]
    },
    {
      "cell_type": "code",
      "source": [
        "#훈련 데이터와 테스트 데이터 분리\n",
        "from sklearn.model_selection import train_test_split"
      ],
      "metadata": {
        "id": "dZ53UZIxCy-1"
      },
      "execution_count": 11,
      "outputs": []
    },
    {
      "cell_type": "code",
      "source": [
        "X_train, X_test, Y_train, Y_test = train_test_split(X_data, Y_data, test_size=0.05, random_state=42)\n",
        "X_train.shape, X_test.shape, Y_train.shape, Y_test.shape"
      ],
      "metadata": {
        "colab": {
          "base_uri": "https://localhost:8080/"
        },
        "id": "jDy7n-ClCufU",
        "outputId": "1422166e-0024-4f18-ace0-e24587ef526f"
      },
      "execution_count": 12,
      "outputs": [
        {
          "output_type": "execute_result",
          "data": {
            "text/plain": [
              "((380, 8), (20, 8), (380,), (20,))"
            ]
          },
          "metadata": {},
          "execution_count": 12
        }
      ]
    },
    {
      "cell_type": "markdown",
      "source": [
        "#KNN 모델"
      ],
      "metadata": {
        "id": "MpO9uZV4CwR7"
      }
    },
    {
      "cell_type": "code",
      "source": [
        "from sklearn.neighbors import KNeighborsClassifier\n",
        "knn_model = KNeighborsClassifier(n_neighbors = 3)"
      ],
      "metadata": {
        "id": "2vZgdXaTC8UN"
      },
      "execution_count": 13,
      "outputs": []
    },
    {
      "cell_type": "code",
      "source": [
        "#k 값에 따른 정확도 변화 시각화\n",
        "knn_model.fit(X_train, Y_train)"
      ],
      "metadata": {
        "colab": {
          "base_uri": "https://localhost:8080/",
          "height": 75
        },
        "id": "GsXEy6GpC-zk",
        "outputId": "223cb651-84ea-4a5a-e647-a9db4d12b503"
      },
      "execution_count": 14,
      "outputs": [
        {
          "output_type": "execute_result",
          "data": {
            "text/plain": [
              "KNeighborsClassifier(n_neighbors=3)"
            ],
            "text/html": [
              "<style>#sk-container-id-1 {color: black;background-color: white;}#sk-container-id-1 pre{padding: 0;}#sk-container-id-1 div.sk-toggleable {background-color: white;}#sk-container-id-1 label.sk-toggleable__label {cursor: pointer;display: block;width: 100%;margin-bottom: 0;padding: 0.3em;box-sizing: border-box;text-align: center;}#sk-container-id-1 label.sk-toggleable__label-arrow:before {content: \"▸\";float: left;margin-right: 0.25em;color: #696969;}#sk-container-id-1 label.sk-toggleable__label-arrow:hover:before {color: black;}#sk-container-id-1 div.sk-estimator:hover label.sk-toggleable__label-arrow:before {color: black;}#sk-container-id-1 div.sk-toggleable__content {max-height: 0;max-width: 0;overflow: hidden;text-align: left;background-color: #f0f8ff;}#sk-container-id-1 div.sk-toggleable__content pre {margin: 0.2em;color: black;border-radius: 0.25em;background-color: #f0f8ff;}#sk-container-id-1 input.sk-toggleable__control:checked~div.sk-toggleable__content {max-height: 200px;max-width: 100%;overflow: auto;}#sk-container-id-1 input.sk-toggleable__control:checked~label.sk-toggleable__label-arrow:before {content: \"▾\";}#sk-container-id-1 div.sk-estimator input.sk-toggleable__control:checked~label.sk-toggleable__label {background-color: #d4ebff;}#sk-container-id-1 div.sk-label input.sk-toggleable__control:checked~label.sk-toggleable__label {background-color: #d4ebff;}#sk-container-id-1 input.sk-hidden--visually {border: 0;clip: rect(1px 1px 1px 1px);clip: rect(1px, 1px, 1px, 1px);height: 1px;margin: -1px;overflow: hidden;padding: 0;position: absolute;width: 1px;}#sk-container-id-1 div.sk-estimator {font-family: monospace;background-color: #f0f8ff;border: 1px dotted black;border-radius: 0.25em;box-sizing: border-box;margin-bottom: 0.5em;}#sk-container-id-1 div.sk-estimator:hover {background-color: #d4ebff;}#sk-container-id-1 div.sk-parallel-item::after {content: \"\";width: 100%;border-bottom: 1px solid gray;flex-grow: 1;}#sk-container-id-1 div.sk-label:hover label.sk-toggleable__label {background-color: #d4ebff;}#sk-container-id-1 div.sk-serial::before {content: \"\";position: absolute;border-left: 1px solid gray;box-sizing: border-box;top: 0;bottom: 0;left: 50%;z-index: 0;}#sk-container-id-1 div.sk-serial {display: flex;flex-direction: column;align-items: center;background-color: white;padding-right: 0.2em;padding-left: 0.2em;position: relative;}#sk-container-id-1 div.sk-item {position: relative;z-index: 1;}#sk-container-id-1 div.sk-parallel {display: flex;align-items: stretch;justify-content: center;background-color: white;position: relative;}#sk-container-id-1 div.sk-item::before, #sk-container-id-1 div.sk-parallel-item::before {content: \"\";position: absolute;border-left: 1px solid gray;box-sizing: border-box;top: 0;bottom: 0;left: 50%;z-index: -1;}#sk-container-id-1 div.sk-parallel-item {display: flex;flex-direction: column;z-index: 1;position: relative;background-color: white;}#sk-container-id-1 div.sk-parallel-item:first-child::after {align-self: flex-end;width: 50%;}#sk-container-id-1 div.sk-parallel-item:last-child::after {align-self: flex-start;width: 50%;}#sk-container-id-1 div.sk-parallel-item:only-child::after {width: 0;}#sk-container-id-1 div.sk-dashed-wrapped {border: 1px dashed gray;margin: 0 0.4em 0.5em 0.4em;box-sizing: border-box;padding-bottom: 0.4em;background-color: white;}#sk-container-id-1 div.sk-label label {font-family: monospace;font-weight: bold;display: inline-block;line-height: 1.2em;}#sk-container-id-1 div.sk-label-container {text-align: center;}#sk-container-id-1 div.sk-container {/* jupyter's `normalize.less` sets `[hidden] { display: none; }` but bootstrap.min.css set `[hidden] { display: none !important; }` so we also need the `!important` here to be able to override the default hidden behavior on the sphinx rendered scikit-learn.org. See: https://github.com/scikit-learn/scikit-learn/issues/21755 */display: inline-block !important;position: relative;}#sk-container-id-1 div.sk-text-repr-fallback {display: none;}</style><div id=\"sk-container-id-1\" class=\"sk-top-container\"><div class=\"sk-text-repr-fallback\"><pre>KNeighborsClassifier(n_neighbors=3)</pre><b>In a Jupyter environment, please rerun this cell to show the HTML representation or trust the notebook. <br />On GitHub, the HTML representation is unable to render, please try loading this page with nbviewer.org.</b></div><div class=\"sk-container\" hidden><div class=\"sk-item\"><div class=\"sk-estimator sk-toggleable\"><input class=\"sk-toggleable__control sk-hidden--visually\" id=\"sk-estimator-id-1\" type=\"checkbox\" checked><label for=\"sk-estimator-id-1\" class=\"sk-toggleable__label sk-toggleable__label-arrow\">KNeighborsClassifier</label><div class=\"sk-toggleable__content\"><pre>KNeighborsClassifier(n_neighbors=3)</pre></div></div></div></div></div>"
            ]
          },
          "metadata": {},
          "execution_count": 14
        }
      ]
    },
    {
      "cell_type": "code",
      "source": [
        "knn_model.score(X_train, Y_train)"
      ],
      "metadata": {
        "colab": {
          "base_uri": "https://localhost:8080/"
        },
        "id": "wmk-ZX4yDDCT",
        "outputId": "48fb476e-4338-4b19-8f40-34ef8a59771c"
      },
      "execution_count": 15,
      "outputs": [
        {
          "output_type": "execute_result",
          "data": {
            "text/plain": [
              "0.9368421052631579"
            ]
          },
          "metadata": {},
          "execution_count": 15
        }
      ]
    },
    {
      "cell_type": "code",
      "source": [
        "knn_model.score(X_test, Y_test)"
      ],
      "metadata": {
        "colab": {
          "base_uri": "https://localhost:8080/"
        },
        "id": "kfxkDjofDSzM",
        "outputId": "1f7d745b-2a3c-4ade-fe65-bd1a6264b321"
      },
      "execution_count": 16,
      "outputs": [
        {
          "output_type": "execute_result",
          "data": {
            "text/plain": [
              "0.8"
            ]
          },
          "metadata": {},
          "execution_count": 16
        }
      ]
    },
    {
      "cell_type": "code",
      "source": [
        "k_list = range(1,50)\n",
        "acc_train = []\n",
        "acc_test = []\n",
        "\n",
        "for k in k_list:\n",
        "  classifier = KNeighborsClassifier(n_neighbors = k)\n",
        "  classifier.fit(X_train, Y_train )\n",
        "  acc_train.append(classifier.score(X_train, Y_train))\n",
        "  acc_test.append(classifier.score(X_test, Y_test))\n",
        "\n",
        "plt.plot(k_list, acc_train, label = 'train')\n",
        "plt.plot(k_list, acc_test, label = 'test')\n",
        "plt.xlabel(\"k\")\n",
        "plt.ylabel(\"Accuracy\")\n",
        "plt.title(\"Hair Loss Classifier Accuracy\")\n",
        "plt.legend()\n",
        "plt.show()"
      ],
      "metadata": {
        "colab": {
          "base_uri": "https://localhost:8080/",
          "height": 472
        },
        "id": "3Gqw-sDEDE9b",
        "outputId": "804bd87f-c6b4-4436-89a3-33b28b8eb129"
      },
      "execution_count": 17,
      "outputs": [
        {
          "output_type": "display_data",
          "data": {
            "text/plain": [
              "<Figure size 640x480 with 1 Axes>"
            ],
            "image/png": "[encoded data removed]"
          },
          "metadata": {}
        }
      ]
    },
    {
      "cell_type": "code",
      "source": [
        "from sklearn.metrics import classification_report, confusion_matrix\n",
        "knn_prediction = knn_model.predict(X_test)\n",
        "print('  혼동 행렬\\n', confusion_matrix(Y_test, knn_prediction))\n",
        "print('\\n평가 지표\\n', classification_report(Y_test, knn_prediction, zero_division=0))"
      ],
      "metadata": {
        "colab": {
          "base_uri": "https://localhost:8080/"
        },
        "id": "5Y0Iw87CDTFb",
        "outputId": "31eb7203-5d36-4538-e206-34f7200cc75d"
      },
      "execution_count": 18,
      "outputs": [
        {
          "output_type": "stream",
          "name": "stdout",
          "text": [
            "  혼동 행렬\n",
            " [[ 4  1  0  0]\n",
            " [ 2 10  0  0]\n",
            " [ 0  0  2  0]\n",
            " [ 0  0  1  0]]\n",
            "\n",
            "평가 지표\n",
            "               precision    recall  f1-score   support\n",
            "\n",
            "           0       0.67      0.80      0.73         5\n",
            "           1       0.91      0.83      0.87        12\n",
            "           2       0.67      1.00      0.80         2\n",
            "           3       0.00      0.00      0.00         1\n",
            "\n",
            "    accuracy                           0.80        20\n",
            "   macro avg       0.56      0.66      0.60        20\n",
            "weighted avg       0.78      0.80      0.78        20\n",
            "\n"
          ]
        }
      ]
    },
    {
      "cell_type": "markdown",
      "source": [
        "정확도가 80%이고 탈모 정도별 정밀도가 전체적으로 낮은 것을 알 수 있다.\n",
        "즉 탈모 데이터는 k-NN 알고리즘과 잘 맞지 않는 것을 확인할 수 있다."
      ],
      "metadata": {
        "id": "0OHtZVafBV8c"
      }
    },
    {
      "cell_type": "markdown",
      "source": [
        "#딥러닝"
      ],
      "metadata": {
        "id": "iH8Ops0FDb1M"
      }
    },
    {
      "cell_type": "code",
      "source": [
        "import tensorflow as tf\n",
        "from tensorflow.keras.models import Sequential\n",
        "from tensorflow.keras.layers import Dense"
      ],
      "metadata": {
        "id": "O4isgGkMDkvl"
      },
      "execution_count": 19,
      "outputs": []
    },
    {
      "cell_type": "code",
      "source": [
        "#원-핫 인코딩\n",
        "from keras.utils import np_utils\n",
        "Y_encoded = np_utils.to_categorical(Y_data)\n",
        "Y= np.asarray(Y_encoded)\n",
        "Y[0]"
      ],
      "metadata": {
        "colab": {
          "base_uri": "https://localhost:8080/"
        },
        "id": "-zp8bSbhIMqw",
        "outputId": "d1694661-66f3-413e-cdd3-b9842106a82e"
      },
      "execution_count": 20,
      "outputs": [
        {
          "output_type": "execute_result",
          "data": {
            "text/plain": [
              "array([1., 0., 0., 0.], dtype=float32)"
            ]
          },
          "metadata": {},
          "execution_count": 20
        }
      ]
    },
    {
      "cell_type": "code",
      "source": [
        "X_train, X_test, Y_train, Y_test = train_test_split(X_data, Y, test_size=0.05, random_state=42)\n",
        "X_train.shape, X_test.shape, Y_train.shape, Y_test.shape,"
      ],
      "metadata": {
        "colab": {
          "base_uri": "https://localhost:8080/"
        },
        "id": "wv3Ivtv0Ibjw",
        "outputId": "aab8facd-aecf-4cd9-cd52-40b7ae80cb2b"
      },
      "execution_count": 21,
      "outputs": [
        {
          "output_type": "execute_result",
          "data": {
            "text/plain": [
              "((380, 8), (20, 8), (380, 4), (20, 4))"
            ]
          },
          "metadata": {},
          "execution_count": 21
        }
      ]
    },
    {
      "cell_type": "code",
      "source": [
        "tf.random.set_seed(3)\n",
        "model = Sequential()\n",
        "model.add(Dense(72, input_dim=8, activation='relu'))\n",
        "model.add(Dense(36,activation='relu'))\n",
        "model.add(Dense(12, activation='relu'))\n",
        "model.add(Dense(4, activation='softmax'))"
      ],
      "metadata": {
        "id": "7zCfZfX4DmDL"
      },
      "execution_count": 22,
      "outputs": []
    },
    {
      "cell_type": "code",
      "source": [
        "model.compile(loss='categorical_crossentropy', optimizer='adam', metrics=['accuracy'])"
      ],
      "metadata": {
        "id": "LhO3cRGWDzLz"
      },
      "execution_count": 23,
      "outputs": []
    },
    {
      "cell_type": "code",
      "source": [
        "model.fit(X_train, Y_train,epochs=150, batch_size=10, validation_split=0.10)"
      ],
      "metadata": {
        "colab": {
          "base_uri": "https://localhost:8080/"
        },
        "id": "C5LFGOVZD5w0",
        "outputId": "395eaed7-a99d-427e-84be-da6c045f5f34"
      },
      "execution_count": 24,
      "outputs": [
        {
          "output_type": "stream",
          "name": "stdout",
          "text": [
            "Epoch 1/150\n",
            "35/35 [==============================] - 2s 11ms/step - loss: 1.3340 - accuracy: 0.4094 - val_loss: 1.2231 - val_accuracy: 0.3947\n",
            "Epoch 2/150\n",
            "35/35 [==============================] - 0s 4ms/step - loss: 1.1281 - accuracy: 0.4503 - val_loss: 1.1289 - val_accuracy: 0.3684\n",
            "Epoch 3/150\n",
            "35/35 [==============================] - 0s 4ms/step - loss: 0.9940 - accuracy: 0.4415 - val_loss: 0.9258 - val_accuracy: 0.4211\n",
            "Epoch 4/150\n",
            "35/35 [==============================] - 0s 3ms/step - loss: 0.8707 - accuracy: 0.4649 - val_loss: 0.7666 - val_accuracy: 0.5000\n",
            "Epoch 5/150\n",
            "35/35 [==============================] - 0s 3ms/step - loss: 0.7528 - accuracy: 0.7018 - val_loss: 0.7424 - val_accuracy: 0.5263\n",
            "Epoch 6/150\n",
            "35/35 [==============================] - 0s 3ms/step - loss: 0.6975 - accuracy: 0.7515 - val_loss: 0.5937 - val_accuracy: 0.8158\n",
            "Epoch 7/150\n",
            "35/35 [==============================] - 0s 3ms/step - loss: 0.5998 - accuracy: 0.8012 - val_loss: 0.4976 - val_accuracy: 0.8421\n",
            "Epoch 8/150\n",
            "35/35 [==============================] - 0s 4ms/step - loss: 0.5573 - accuracy: 0.8304 - val_loss: 0.5254 - val_accuracy: 0.7632\n",
            "Epoch 9/150\n",
            "35/35 [==============================] - 0s 4ms/step - loss: 0.5210 - accuracy: 0.8246 - val_loss: 0.5101 - val_accuracy: 0.7632\n",
            "Epoch 10/150\n",
            "35/35 [==============================] - 0s 3ms/step - loss: 0.5185 - accuracy: 0.8099 - val_loss: 0.4856 - val_accuracy: 0.7895\n",
            "Epoch 11/150\n",
            "35/35 [==============================] - 0s 3ms/step - loss: 0.4659 - accuracy: 0.8304 - val_loss: 0.4662 - val_accuracy: 0.7895\n",
            "Epoch 12/150\n",
            "35/35 [==============================] - 0s 3ms/step - loss: 0.4149 - accuracy: 0.8538 - val_loss: 0.3726 - val_accuracy: 0.8421\n",
            "Epoch 13/150\n",
            "35/35 [==============================] - 0s 4ms/step - loss: 0.4273 - accuracy: 0.8363 - val_loss: 0.3668 - val_accuracy: 0.8421\n",
            "Epoch 14/150\n",
            "35/35 [==============================] - 0s 3ms/step - loss: 0.4373 - accuracy: 0.8450 - val_loss: 0.3844 - val_accuracy: 0.8421\n",
            "Epoch 15/150\n",
            "35/35 [==============================] - 0s 3ms/step - loss: 0.3782 - accuracy: 0.8509 - val_loss: 0.3413 - val_accuracy: 0.8684\n",
            "Epoch 16/150\n",
            "35/35 [==============================] - 0s 3ms/step - loss: 0.3479 - accuracy: 0.8684 - val_loss: 0.3430 - val_accuracy: 0.8684\n",
            "Epoch 17/150\n",
            "35/35 [==============================] - 0s 4ms/step - loss: 0.3274 - accuracy: 0.8772 - val_loss: 0.3263 - val_accuracy: 0.8421\n",
            "Epoch 18/150\n",
            "35/35 [==============================] - 0s 3ms/step - loss: 0.3203 - accuracy: 0.8772 - val_loss: 0.3250 - val_accuracy: 0.8421\n",
            "Epoch 19/150\n",
            "35/35 [==============================] - 0s 3ms/step - loss: 0.3246 - accuracy: 0.8684 - val_loss: 0.2929 - val_accuracy: 0.8684\n",
            "Epoch 20/150\n",
            "35/35 [==============================] - 0s 4ms/step - loss: 0.2939 - accuracy: 0.8860 - val_loss: 0.3600 - val_accuracy: 0.7895\n",
            "Epoch 21/150\n",
            "35/35 [==============================] - 0s 3ms/step - loss: 0.2966 - accuracy: 0.8889 - val_loss: 0.3749 - val_accuracy: 0.7632\n",
            "Epoch 22/150\n",
            "35/35 [==============================] - 0s 3ms/step - loss: 0.2876 - accuracy: 0.8772 - val_loss: 0.3387 - val_accuracy: 0.8684\n",
            "Epoch 23/150\n",
            "35/35 [==============================] - 0s 3ms/step - loss: 0.2920 - accuracy: 0.8801 - val_loss: 0.3372 - val_accuracy: 0.8947\n",
            "Epoch 24/150\n",
            "35/35 [==============================] - 0s 4ms/step - loss: 0.2673 - accuracy: 0.8860 - val_loss: 0.3699 - val_accuracy: 0.8684\n",
            "Epoch 25/150\n",
            "35/35 [==============================] - 0s 3ms/step - loss: 0.2789 - accuracy: 0.8713 - val_loss: 0.3814 - val_accuracy: 0.7895\n",
            "Epoch 26/150\n",
            "35/35 [==============================] - 0s 3ms/step - loss: 0.2656 - accuracy: 0.8918 - val_loss: 0.3088 - val_accuracy: 0.8421\n",
            "Epoch 27/150\n",
            "35/35 [==============================] - 0s 3ms/step - loss: 0.2665 - accuracy: 0.8801 - val_loss: 0.3471 - val_accuracy: 0.8684\n",
            "Epoch 28/150\n",
            "35/35 [==============================] - 0s 3ms/step - loss: 0.2524 - accuracy: 0.8918 - val_loss: 0.3169 - val_accuracy: 0.8684\n",
            "Epoch 29/150\n",
            "35/35 [==============================] - 0s 3ms/step - loss: 0.2442 - accuracy: 0.8830 - val_loss: 0.3444 - val_accuracy: 0.8947\n",
            "Epoch 30/150\n",
            "35/35 [==============================] - 0s 3ms/step - loss: 0.2415 - accuracy: 0.8918 - val_loss: 0.3367 - val_accuracy: 0.8421\n",
            "Epoch 31/150\n",
            "35/35 [==============================] - 0s 3ms/step - loss: 0.2305 - accuracy: 0.8860 - val_loss: 0.3330 - val_accuracy: 0.8684\n",
            "Epoch 32/150\n",
            "35/35 [==============================] - 0s 3ms/step - loss: 0.2258 - accuracy: 0.9064 - val_loss: 0.3571 - val_accuracy: 0.8421\n",
            "Epoch 33/150\n",
            "35/35 [==============================] - 0s 3ms/step - loss: 0.2430 - accuracy: 0.8977 - val_loss: 0.4193 - val_accuracy: 0.7895\n",
            "Epoch 34/150\n",
            "35/35 [==============================] - 0s 4ms/step - loss: 0.2265 - accuracy: 0.9035 - val_loss: 0.4135 - val_accuracy: 0.7895\n",
            "Epoch 35/150\n",
            "35/35 [==============================] - 0s 3ms/step - loss: 0.2318 - accuracy: 0.9064 - val_loss: 0.4368 - val_accuracy: 0.7895\n",
            "Epoch 36/150\n",
            "35/35 [==============================] - 0s 3ms/step - loss: 0.2045 - accuracy: 0.9152 - val_loss: 0.4211 - val_accuracy: 0.8158\n",
            "Epoch 37/150\n",
            "35/35 [==============================] - 0s 3ms/step - loss: 0.2146 - accuracy: 0.9006 - val_loss: 0.3980 - val_accuracy: 0.7895\n",
            "Epoch 38/150\n",
            "35/35 [==============================] - 0s 3ms/step - loss: 0.2222 - accuracy: 0.9035 - val_loss: 0.3583 - val_accuracy: 0.8158\n",
            "Epoch 39/150\n",
            "35/35 [==============================] - 0s 3ms/step - loss: 0.2031 - accuracy: 0.9006 - val_loss: 0.4538 - val_accuracy: 0.7895\n",
            "Epoch 40/150\n",
            "35/35 [==============================] - 0s 3ms/step - loss: 0.1991 - accuracy: 0.9064 - val_loss: 0.3612 - val_accuracy: 0.8421\n",
            "Epoch 41/150\n",
            "35/35 [==============================] - 0s 3ms/step - loss: 0.1937 - accuracy: 0.9181 - val_loss: 0.3426 - val_accuracy: 0.8421\n",
            "Epoch 42/150\n",
            "35/35 [==============================] - 0s 4ms/step - loss: 0.2083 - accuracy: 0.8977 - val_loss: 0.3719 - val_accuracy: 0.8684\n",
            "Epoch 43/150\n",
            "35/35 [==============================] - 0s 3ms/step - loss: 0.1888 - accuracy: 0.9181 - val_loss: 0.3660 - val_accuracy: 0.8158\n",
            "Epoch 44/150\n",
            "35/35 [==============================] - 0s 4ms/step - loss: 0.1894 - accuracy: 0.9035 - val_loss: 0.3782 - val_accuracy: 0.8684\n",
            "Epoch 45/150\n",
            "35/35 [==============================] - 0s 3ms/step - loss: 0.1832 - accuracy: 0.9152 - val_loss: 0.4885 - val_accuracy: 0.8158\n",
            "Epoch 46/150\n",
            "35/35 [==============================] - 0s 3ms/step - loss: 0.1760 - accuracy: 0.9181 - val_loss: 0.4254 - val_accuracy: 0.8421\n",
            "Epoch 47/150\n",
            "35/35 [==============================] - 0s 3ms/step - loss: 0.1787 - accuracy: 0.9269 - val_loss: 0.4487 - val_accuracy: 0.8421\n",
            "Epoch 48/150\n",
            "35/35 [==============================] - 0s 4ms/step - loss: 0.1714 - accuracy: 0.9240 - val_loss: 0.4650 - val_accuracy: 0.8421\n",
            "Epoch 49/150\n",
            "35/35 [==============================] - 0s 3ms/step - loss: 0.1968 - accuracy: 0.9035 - val_loss: 0.4599 - val_accuracy: 0.7895\n",
            "Epoch 50/150\n",
            "35/35 [==============================] - 0s 3ms/step - loss: 0.1916 - accuracy: 0.8947 - val_loss: 0.4464 - val_accuracy: 0.8158\n",
            "Epoch 51/150\n",
            "35/35 [==============================] - 0s 5ms/step - loss: 0.1787 - accuracy: 0.9152 - val_loss: 0.3917 - val_accuracy: 0.8421\n",
            "Epoch 52/150\n",
            "35/35 [==============================] - 0s 4ms/step - loss: 0.1724 - accuracy: 0.9123 - val_loss: 0.4193 - val_accuracy: 0.8421\n",
            "Epoch 53/150\n",
            "35/35 [==============================] - 0s 5ms/step - loss: 0.1626 - accuracy: 0.9386 - val_loss: 0.3940 - val_accuracy: 0.8158\n",
            "Epoch 54/150\n",
            "35/35 [==============================] - 0s 5ms/step - loss: 0.1586 - accuracy: 0.9211 - val_loss: 0.4405 - val_accuracy: 0.8421\n",
            "Epoch 55/150\n",
            "35/35 [==============================] - 0s 5ms/step - loss: 0.1687 - accuracy: 0.9298 - val_loss: 0.3888 - val_accuracy: 0.8684\n",
            "Epoch 56/150\n",
            "35/35 [==============================] - 0s 5ms/step - loss: 0.1607 - accuracy: 0.9240 - val_loss: 0.4273 - val_accuracy: 0.8158\n",
            "Epoch 57/150\n",
            "35/35 [==============================] - 0s 4ms/step - loss: 0.1615 - accuracy: 0.9240 - val_loss: 0.5220 - val_accuracy: 0.8684\n",
            "Epoch 58/150\n",
            "35/35 [==============================] - 0s 5ms/step - loss: 0.1765 - accuracy: 0.9064 - val_loss: 0.4090 - val_accuracy: 0.8947\n",
            "Epoch 59/150\n",
            "35/35 [==============================] - 0s 4ms/step - loss: 0.1614 - accuracy: 0.9123 - val_loss: 0.4588 - val_accuracy: 0.8421\n",
            "Epoch 60/150\n",
            "35/35 [==============================] - 0s 5ms/step - loss: 0.1585 - accuracy: 0.9240 - val_loss: 0.4727 - val_accuracy: 0.8421\n",
            "Epoch 61/150\n",
            "35/35 [==============================] - 0s 5ms/step - loss: 0.1561 - accuracy: 0.9327 - val_loss: 0.4444 - val_accuracy: 0.8947\n",
            "Epoch 62/150\n",
            "35/35 [==============================] - 0s 6ms/step - loss: 0.1501 - accuracy: 0.9269 - val_loss: 0.4778 - val_accuracy: 0.8421\n",
            "Epoch 63/150\n",
            "35/35 [==============================] - 0s 6ms/step - loss: 0.1510 - accuracy: 0.9269 - val_loss: 0.4634 - val_accuracy: 0.8421\n",
            "Epoch 64/150\n",
            "35/35 [==============================] - 0s 6ms/step - loss: 0.1533 - accuracy: 0.9415 - val_loss: 0.4446 - val_accuracy: 0.8158\n",
            "Epoch 65/150\n",
            "35/35 [==============================] - 0s 5ms/step - loss: 0.1852 - accuracy: 0.9181 - val_loss: 0.5535 - val_accuracy: 0.8421\n",
            "Epoch 66/150\n",
            "35/35 [==============================] - 0s 5ms/step - loss: 0.1659 - accuracy: 0.9240 - val_loss: 0.4884 - val_accuracy: 0.8421\n",
            "Epoch 67/150\n",
            "35/35 [==============================] - 0s 3ms/step - loss: 0.1572 - accuracy: 0.9094 - val_loss: 0.4823 - val_accuracy: 0.8421\n",
            "Epoch 68/150\n",
            "35/35 [==============================] - 0s 3ms/step - loss: 0.1518 - accuracy: 0.9327 - val_loss: 0.4609 - val_accuracy: 0.8158\n",
            "Epoch 69/150\n",
            "35/35 [==============================] - 0s 3ms/step - loss: 0.1472 - accuracy: 0.9240 - val_loss: 0.4655 - val_accuracy: 0.8421\n",
            "Epoch 70/150\n",
            "35/35 [==============================] - 0s 3ms/step - loss: 0.1352 - accuracy: 0.9386 - val_loss: 0.4964 - val_accuracy: 0.8421\n",
            "Epoch 71/150\n",
            "35/35 [==============================] - 0s 3ms/step - loss: 0.1766 - accuracy: 0.9211 - val_loss: 0.4211 - val_accuracy: 0.8684\n",
            "Epoch 72/150\n",
            "35/35 [==============================] - 0s 3ms/step - loss: 0.1501 - accuracy: 0.9269 - val_loss: 0.4143 - val_accuracy: 0.8421\n",
            "Epoch 73/150\n",
            "35/35 [==============================] - 0s 3ms/step - loss: 0.1528 - accuracy: 0.9327 - val_loss: 0.4596 - val_accuracy: 0.8158\n",
            "Epoch 74/150\n",
            "35/35 [==============================] - 0s 3ms/step - loss: 0.1582 - accuracy: 0.9298 - val_loss: 0.5074 - val_accuracy: 0.8947\n",
            "Epoch 75/150\n",
            "35/35 [==============================] - 0s 3ms/step - loss: 0.1492 - accuracy: 0.9327 - val_loss: 0.5261 - val_accuracy: 0.8421\n",
            "Epoch 76/150\n",
            "35/35 [==============================] - 0s 4ms/step - loss: 0.1500 - accuracy: 0.9269 - val_loss: 0.4886 - val_accuracy: 0.8421\n",
            "Epoch 77/150\n",
            "35/35 [==============================] - 0s 3ms/step - loss: 0.1551 - accuracy: 0.9211 - val_loss: 0.4642 - val_accuracy: 0.8684\n",
            "Epoch 78/150\n",
            "35/35 [==============================] - 0s 4ms/step - loss: 0.1451 - accuracy: 0.9211 - val_loss: 0.5173 - val_accuracy: 0.8421\n",
            "Epoch 79/150\n",
            "35/35 [==============================] - 0s 3ms/step - loss: 0.1408 - accuracy: 0.9474 - val_loss: 0.4801 - val_accuracy: 0.8421\n",
            "Epoch 80/150\n",
            "35/35 [==============================] - 0s 3ms/step - loss: 0.1446 - accuracy: 0.9298 - val_loss: 0.4674 - val_accuracy: 0.8158\n",
            "Epoch 81/150\n",
            "35/35 [==============================] - 0s 3ms/step - loss: 0.1382 - accuracy: 0.9415 - val_loss: 0.4533 - val_accuracy: 0.8684\n",
            "Epoch 82/150\n",
            "35/35 [==============================] - 0s 3ms/step - loss: 0.1334 - accuracy: 0.9415 - val_loss: 0.4485 - val_accuracy: 0.8947\n",
            "Epoch 83/150\n",
            "35/35 [==============================] - 0s 3ms/step - loss: 0.1344 - accuracy: 0.9415 - val_loss: 0.6120 - val_accuracy: 0.8421\n",
            "Epoch 84/150\n",
            "35/35 [==============================] - 0s 3ms/step - loss: 0.1531 - accuracy: 0.9152 - val_loss: 0.5276 - val_accuracy: 0.8421\n",
            "Epoch 85/150\n",
            "35/35 [==============================] - 0s 3ms/step - loss: 0.1562 - accuracy: 0.9211 - val_loss: 0.4947 - val_accuracy: 0.8158\n",
            "Epoch 86/150\n",
            "35/35 [==============================] - 0s 3ms/step - loss: 0.1356 - accuracy: 0.9357 - val_loss: 0.5869 - val_accuracy: 0.8421\n",
            "Epoch 87/150\n",
            "35/35 [==============================] - 0s 3ms/step - loss: 0.1397 - accuracy: 0.9327 - val_loss: 0.5118 - val_accuracy: 0.8421\n",
            "Epoch 88/150\n",
            "35/35 [==============================] - 0s 4ms/step - loss: 0.1383 - accuracy: 0.9327 - val_loss: 0.5110 - val_accuracy: 0.8158\n",
            "Epoch 89/150\n",
            "35/35 [==============================] - 0s 3ms/step - loss: 0.1645 - accuracy: 0.9240 - val_loss: 0.4887 - val_accuracy: 0.8684\n",
            "Epoch 90/150\n",
            "35/35 [==============================] - 0s 3ms/step - loss: 0.1272 - accuracy: 0.9386 - val_loss: 0.5772 - val_accuracy: 0.8947\n",
            "Epoch 91/150\n",
            "35/35 [==============================] - 0s 3ms/step - loss: 0.1598 - accuracy: 0.9240 - val_loss: 0.5219 - val_accuracy: 0.8421\n",
            "Epoch 92/150\n",
            "35/35 [==============================] - 0s 3ms/step - loss: 0.1335 - accuracy: 0.9386 - val_loss: 0.4403 - val_accuracy: 0.8158\n",
            "Epoch 93/150\n",
            "35/35 [==============================] - 0s 4ms/step - loss: 0.1285 - accuracy: 0.9386 - val_loss: 0.4940 - val_accuracy: 0.8158\n",
            "Epoch 94/150\n",
            "35/35 [==============================] - 0s 3ms/step - loss: 0.1334 - accuracy: 0.9386 - val_loss: 0.4917 - val_accuracy: 0.8684\n",
            "Epoch 95/150\n",
            "35/35 [==============================] - 0s 3ms/step - loss: 0.1274 - accuracy: 0.9503 - val_loss: 0.5227 - val_accuracy: 0.8421\n",
            "Epoch 96/150\n",
            "35/35 [==============================] - 0s 4ms/step - loss: 0.1277 - accuracy: 0.9415 - val_loss: 0.4864 - val_accuracy: 0.8158\n",
            "Epoch 97/150\n",
            "35/35 [==============================] - 0s 3ms/step - loss: 0.1439 - accuracy: 0.9298 - val_loss: 0.4998 - val_accuracy: 0.8684\n",
            "Epoch 98/150\n",
            "35/35 [==============================] - 0s 4ms/step - loss: 0.1374 - accuracy: 0.9327 - val_loss: 0.5771 - val_accuracy: 0.8158\n",
            "Epoch 99/150\n",
            "35/35 [==============================] - 0s 3ms/step - loss: 0.1199 - accuracy: 0.9415 - val_loss: 0.5556 - val_accuracy: 0.8421\n",
            "Epoch 100/150\n",
            "35/35 [==============================] - 0s 3ms/step - loss: 0.1325 - accuracy: 0.9240 - val_loss: 0.5640 - val_accuracy: 0.8158\n",
            "Epoch 101/150\n",
            "35/35 [==============================] - 0s 4ms/step - loss: 0.1137 - accuracy: 0.9415 - val_loss: 0.5683 - val_accuracy: 0.8421\n",
            "Epoch 102/150\n",
            "35/35 [==============================] - 0s 3ms/step - loss: 0.1173 - accuracy: 0.9503 - val_loss: 0.4993 - val_accuracy: 0.8684\n",
            "Epoch 103/150\n",
            "35/35 [==============================] - 0s 3ms/step - loss: 0.1268 - accuracy: 0.9444 - val_loss: 0.5816 - val_accuracy: 0.8947\n",
            "Epoch 104/150\n",
            "35/35 [==============================] - 0s 3ms/step - loss: 0.1343 - accuracy: 0.9211 - val_loss: 0.6011 - val_accuracy: 0.8421\n",
            "Epoch 105/150\n",
            "35/35 [==============================] - 0s 4ms/step - loss: 0.1119 - accuracy: 0.9444 - val_loss: 0.5150 - val_accuracy: 0.8421\n",
            "Epoch 106/150\n",
            "35/35 [==============================] - 0s 4ms/step - loss: 0.1299 - accuracy: 0.9327 - val_loss: 0.6310 - val_accuracy: 0.8158\n",
            "Epoch 107/150\n",
            "35/35 [==============================] - 0s 4ms/step - loss: 0.2418 - accuracy: 0.9064 - val_loss: 0.5278 - val_accuracy: 0.8684\n",
            "Epoch 108/150\n",
            "35/35 [==============================] - 0s 4ms/step - loss: 0.1375 - accuracy: 0.9327 - val_loss: 0.5613 - val_accuracy: 0.8421\n",
            "Epoch 109/150\n",
            "35/35 [==============================] - 0s 4ms/step - loss: 0.1252 - accuracy: 0.9503 - val_loss: 0.5053 - val_accuracy: 0.8158\n",
            "Epoch 110/150\n",
            "35/35 [==============================] - 0s 4ms/step - loss: 0.1204 - accuracy: 0.9386 - val_loss: 0.5870 - val_accuracy: 0.8947\n",
            "Epoch 111/150\n",
            "35/35 [==============================] - 0s 4ms/step - loss: 0.1213 - accuracy: 0.9327 - val_loss: 0.6182 - val_accuracy: 0.8421\n",
            "Epoch 112/150\n",
            "35/35 [==============================] - 0s 3ms/step - loss: 0.1250 - accuracy: 0.9357 - val_loss: 0.5762 - val_accuracy: 0.8421\n",
            "Epoch 113/150\n",
            "35/35 [==============================] - 0s 3ms/step - loss: 0.1161 - accuracy: 0.9386 - val_loss: 0.5775 - val_accuracy: 0.8421\n",
            "Epoch 114/150\n",
            "35/35 [==============================] - 0s 4ms/step - loss: 0.1268 - accuracy: 0.9269 - val_loss: 0.5304 - val_accuracy: 0.8684\n",
            "Epoch 115/150\n",
            "35/35 [==============================] - 0s 3ms/step - loss: 0.1322 - accuracy: 0.9415 - val_loss: 0.5564 - val_accuracy: 0.8684\n",
            "Epoch 116/150\n",
            "35/35 [==============================] - 0s 4ms/step - loss: 0.1181 - accuracy: 0.9503 - val_loss: 0.5281 - val_accuracy: 0.8158\n",
            "Epoch 117/150\n",
            "35/35 [==============================] - 0s 3ms/step - loss: 0.1203 - accuracy: 0.9532 - val_loss: 0.6638 - val_accuracy: 0.8947\n",
            "Epoch 118/150\n",
            "35/35 [==============================] - 0s 4ms/step - loss: 0.1195 - accuracy: 0.9269 - val_loss: 0.5085 - val_accuracy: 0.8421\n",
            "Epoch 119/150\n",
            "35/35 [==============================] - 0s 3ms/step - loss: 0.1204 - accuracy: 0.9415 - val_loss: 0.5749 - val_accuracy: 0.8684\n",
            "Epoch 120/150\n",
            "35/35 [==============================] - 0s 3ms/step - loss: 0.1128 - accuracy: 0.9444 - val_loss: 0.5729 - val_accuracy: 0.8421\n",
            "Epoch 121/150\n",
            "35/35 [==============================] - 0s 3ms/step - loss: 0.1207 - accuracy: 0.9357 - val_loss: 0.6050 - val_accuracy: 0.8421\n",
            "Epoch 122/150\n",
            "35/35 [==============================] - 0s 4ms/step - loss: 0.1372 - accuracy: 0.9386 - val_loss: 0.6181 - val_accuracy: 0.8421\n",
            "Epoch 123/150\n",
            "35/35 [==============================] - 0s 3ms/step - loss: 0.1167 - accuracy: 0.9415 - val_loss: 0.5994 - val_accuracy: 0.8158\n",
            "Epoch 124/150\n",
            "35/35 [==============================] - 0s 3ms/step - loss: 0.1222 - accuracy: 0.9386 - val_loss: 0.6817 - val_accuracy: 0.8947\n",
            "Epoch 125/150\n",
            "35/35 [==============================] - 0s 4ms/step - loss: 0.1165 - accuracy: 0.9327 - val_loss: 0.5082 - val_accuracy: 0.8684\n",
            "Epoch 126/150\n",
            "35/35 [==============================] - 0s 3ms/step - loss: 0.1119 - accuracy: 0.9444 - val_loss: 0.6199 - val_accuracy: 0.8684\n",
            "Epoch 127/150\n",
            "35/35 [==============================] - 0s 3ms/step - loss: 0.1137 - accuracy: 0.9298 - val_loss: 0.5881 - val_accuracy: 0.8684\n",
            "Epoch 128/150\n",
            "35/35 [==============================] - 0s 3ms/step - loss: 0.1173 - accuracy: 0.9357 - val_loss: 0.5715 - val_accuracy: 0.8947\n",
            "Epoch 129/150\n",
            "35/35 [==============================] - 0s 4ms/step - loss: 0.1173 - accuracy: 0.9503 - val_loss: 0.6435 - val_accuracy: 0.8421\n",
            "Epoch 130/150\n",
            "35/35 [==============================] - 0s 4ms/step - loss: 0.1244 - accuracy: 0.9327 - val_loss: 0.5813 - val_accuracy: 0.8421\n",
            "Epoch 131/150\n",
            "35/35 [==============================] - 0s 3ms/step - loss: 0.1220 - accuracy: 0.9269 - val_loss: 0.5931 - val_accuracy: 0.8684\n",
            "Epoch 132/150\n",
            "35/35 [==============================] - 0s 4ms/step - loss: 0.1119 - accuracy: 0.9357 - val_loss: 0.6240 - val_accuracy: 0.8947\n",
            "Epoch 133/150\n",
            "35/35 [==============================] - 0s 3ms/step - loss: 0.1184 - accuracy: 0.9444 - val_loss: 0.7161 - val_accuracy: 0.8947\n",
            "Epoch 134/150\n",
            "35/35 [==============================] - 0s 3ms/step - loss: 0.1181 - accuracy: 0.9327 - val_loss: 0.5820 - val_accuracy: 0.8421\n",
            "Epoch 135/150\n",
            "35/35 [==============================] - 0s 3ms/step - loss: 0.1161 - accuracy: 0.9386 - val_loss: 0.5493 - val_accuracy: 0.8158\n",
            "Epoch 136/150\n",
            "35/35 [==============================] - 0s 3ms/step - loss: 0.1242 - accuracy: 0.9444 - val_loss: 0.6365 - val_accuracy: 0.8947\n",
            "Epoch 137/150\n",
            "35/35 [==============================] - 0s 3ms/step - loss: 0.1254 - accuracy: 0.9181 - val_loss: 0.6408 - val_accuracy: 0.8947\n",
            "Epoch 138/150\n",
            "35/35 [==============================] - 0s 3ms/step - loss: 0.1115 - accuracy: 0.9503 - val_loss: 0.6615 - val_accuracy: 0.8421\n",
            "Epoch 139/150\n",
            "35/35 [==============================] - 0s 3ms/step - loss: 0.1366 - accuracy: 0.9386 - val_loss: 0.4545 - val_accuracy: 0.9474\n",
            "Epoch 140/150\n",
            "35/35 [==============================] - 0s 4ms/step - loss: 0.1169 - accuracy: 0.9386 - val_loss: 0.5515 - val_accuracy: 0.8947\n",
            "Epoch 141/150\n",
            "35/35 [==============================] - 0s 4ms/step - loss: 0.1212 - accuracy: 0.9357 - val_loss: 0.5910 - val_accuracy: 0.8947\n",
            "Epoch 142/150\n",
            "35/35 [==============================] - 0s 4ms/step - loss: 0.1147 - accuracy: 0.9386 - val_loss: 0.5668 - val_accuracy: 0.8421\n",
            "Epoch 143/150\n",
            "35/35 [==============================] - 0s 4ms/step - loss: 0.1097 - accuracy: 0.9386 - val_loss: 0.5949 - val_accuracy: 0.8684\n",
            "Epoch 144/150\n",
            "35/35 [==============================] - 0s 5ms/step - loss: 0.1231 - accuracy: 0.9357 - val_loss: 0.6333 - val_accuracy: 0.8684\n",
            "Epoch 145/150\n",
            "35/35 [==============================] - 0s 6ms/step - loss: 0.1173 - accuracy: 0.9561 - val_loss: 0.6241 - val_accuracy: 0.8684\n",
            "Epoch 146/150\n",
            "35/35 [==============================] - 0s 6ms/step - loss: 0.1137 - accuracy: 0.9474 - val_loss: 0.6472 - val_accuracy: 0.8947\n",
            "Epoch 147/150\n",
            "35/35 [==============================] - 0s 5ms/step - loss: 0.1168 - accuracy: 0.9474 - val_loss: 0.6026 - val_accuracy: 0.8421\n",
            "Epoch 148/150\n",
            "35/35 [==============================] - 0s 5ms/step - loss: 0.1091 - accuracy: 0.9444 - val_loss: 0.6580 - val_accuracy: 0.8947\n",
            "Epoch 149/150\n",
            "35/35 [==============================] - 0s 5ms/step - loss: 0.1100 - accuracy: 0.9503 - val_loss: 0.5997 - val_accuracy: 0.8158\n",
            "Epoch 150/150\n",
            "35/35 [==============================] - 0s 5ms/step - loss: 0.1095 - accuracy: 0.9415 - val_loss: 0.6325 - val_accuracy: 0.8684\n"
          ]
        },
        {
          "output_type": "execute_result",
          "data": {
            "text/plain": [
              "<keras.callbacks.History at 0x7b19a435f460>"
            ]
          },
          "metadata": {},
          "execution_count": 24
        }
      ]
    },
    {
      "cell_type": "code",
      "source": [
        "model.evaluate(X_test, Y_test)"
      ],
      "metadata": {
        "colab": {
          "base_uri": "https://localhost:8080/"
        },
        "id": "ZmUrRtN1EAgT",
        "outputId": "59d00fa3-288b-4f78-c2d8-ea101489e151"
      },
      "execution_count": 25,
      "outputs": [
        {
          "output_type": "stream",
          "name": "stdout",
          "text": [
            "1/1 [==============================] - 0s 29ms/step - loss: 0.2924 - accuracy: 0.9500\n"
          ]
        },
        {
          "output_type": "execute_result",
          "data": {
            "text/plain": [
              "[0.29236048460006714, 0.949999988079071]"
            ]
          },
          "metadata": {},
          "execution_count": 25
        }
      ]
    }
  ]
}