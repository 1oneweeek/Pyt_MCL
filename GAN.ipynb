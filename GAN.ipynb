{
  "nbformat": 4,
  "nbformat_minor": 0,
  "metadata": {
    "colab": {
      "provenance": [],
      "gpuType": "T4",
      "authorship_tag": "ABX9TyN82jriCy5yqwzzrWPLiKEU",
      "include_colab_link": true
    },
    "kernelspec": {
      "name": "python3",
      "display_name": "Python 3"
    },
    "language_info": {
      "name": "python"
    },
    "accelerator": "GPU"
  },
  "cells": [
    {
      "cell_type": "markdown",
      "metadata": {
        "id": "view-in-github",
        "colab_type": "text"
      },
      "source": [
        "<a href=\"https://colab.research.google.com/github/1oneweeek/Pyt_MCL/blob/main/GAN.ipynb\" target=\"_parent\"><img src=\"https://colab.research.google.com/assets/colab-badge.svg\" alt=\"Open In Colab\"/></a>"
      ]
    },
    {
      "cell_type": "markdown",
      "source": [
        "GAN(Generative Adversarial Network): 2-Player game\n",
        "\n",
        "생성자(Generator)와 판별자(Discriminator) 두 개의 신경망이 적대적인 과정을 통해 함께 학습하여 데이터를 생성하고 평가하는 모델\n",
        "\n",
        "1. Generator: player 1,\n",
        "사실적인 이미지를 생성하여 Discriminator를 속이는 것이 목표. 무작위 noise나 랜덤한 입력을 받아 실제와 같은 데이터를 생성하려고 시도함.\n",
        "\n",
        "2. Discriminator: player 2,\n",
        "입력 이미지가 실제인지 거짓인지 구별하는 것이 목표\n",
        "이미지가 generator가 만든 위조 이미지인지 아닌지를 가능한 잘 구별해내야함\n",
        "실제 데이터는 1에 가깝게, 가짜 데이터는 0에 가까운 확률을 출력하도록 학습함\n",
        "\n",
        "loss function:\n",
        "생성자와 판별자는 각각의 목적 함수를 최적화하기 위해 학습됨\n",
        "\n",
        "+ 생성자: loss function으로는 주로 생성된 데이터가 실제 데이터로 판별될 확률로그를 사용\n",
        "\n",
        "+ 판별자: 생성된 가짜 데이터와 실제 데이터를 구별할 수 있도록 학습하며, 이때의 loss function은 주로 cross-entropy를 사용"
      ],
      "metadata": {
        "id": "2e7yaP-yXRFT"
      }
    },
    {
      "cell_type": "code",
      "execution_count": 1,
      "metadata": {
        "id": "aosTIA2vWkjz",
        "colab": {
          "base_uri": "https://localhost:8080/"
        },
        "outputId": "f00d7be0-0f04-41c2-d6ae-7aeafcddfe5c"
      },
      "outputs": [
        {
          "output_type": "stream",
          "name": "stdout",
          "text": [
            "Downloading http://yann.lecun.com/exdb/mnist/train-images-idx3-ubyte.gz\n",
            "Failed to download (trying next):\n",
            "HTTP Error 403: Forbidden\n",
            "\n",
            "Downloading https://ossci-datasets.s3.amazonaws.com/mnist/train-images-idx3-ubyte.gz\n",
            "Downloading https://ossci-datasets.s3.amazonaws.com/mnist/train-images-idx3-ubyte.gz to data/MNIST/raw/train-images-idx3-ubyte.gz\n"
          ]
        },
        {
          "output_type": "stream",
          "name": "stderr",
          "text": [
            "100%|██████████| 9912422/9912422 [00:02<00:00, 4652375.97it/s]\n"
          ]
        },
        {
          "output_type": "stream",
          "name": "stdout",
          "text": [
            "Extracting data/MNIST/raw/train-images-idx3-ubyte.gz to data/MNIST/raw\n",
            "\n",
            "Downloading http://yann.lecun.com/exdb/mnist/train-labels-idx1-ubyte.gz\n",
            "Failed to download (trying next):\n",
            "HTTP Error 403: Forbidden\n",
            "\n",
            "Downloading https://ossci-datasets.s3.amazonaws.com/mnist/train-labels-idx1-ubyte.gz\n",
            "Downloading https://ossci-datasets.s3.amazonaws.com/mnist/train-labels-idx1-ubyte.gz to data/MNIST/raw/train-labels-idx1-ubyte.gz\n"
          ]
        },
        {
          "output_type": "stream",
          "name": "stderr",
          "text": [
            "100%|██████████| 28881/28881 [00:00<00:00, 135217.97it/s]\n"
          ]
        },
        {
          "output_type": "stream",
          "name": "stdout",
          "text": [
            "Extracting data/MNIST/raw/train-labels-idx1-ubyte.gz to data/MNIST/raw\n",
            "\n",
            "Downloading http://yann.lecun.com/exdb/mnist/t10k-images-idx3-ubyte.gz\n",
            "Failed to download (trying next):\n",
            "HTTP Error 403: Forbidden\n",
            "\n",
            "Downloading https://ossci-datasets.s3.amazonaws.com/mnist/t10k-images-idx3-ubyte.gz\n",
            "Downloading https://ossci-datasets.s3.amazonaws.com/mnist/t10k-images-idx3-ubyte.gz to data/MNIST/raw/t10k-images-idx3-ubyte.gz\n"
          ]
        },
        {
          "output_type": "stream",
          "name": "stderr",
          "text": [
            "100%|██████████| 1648877/1648877 [00:01<00:00, 1092586.88it/s]\n"
          ]
        },
        {
          "output_type": "stream",
          "name": "stdout",
          "text": [
            "Extracting data/MNIST/raw/t10k-images-idx3-ubyte.gz to data/MNIST/raw\n",
            "\n",
            "Downloading http://yann.lecun.com/exdb/mnist/t10k-labels-idx1-ubyte.gz\n",
            "Failed to download (trying next):\n",
            "HTTP Error 403: Forbidden\n",
            "\n",
            "Downloading https://ossci-datasets.s3.amazonaws.com/mnist/t10k-labels-idx1-ubyte.gz\n",
            "Downloading https://ossci-datasets.s3.amazonaws.com/mnist/t10k-labels-idx1-ubyte.gz to data/MNIST/raw/t10k-labels-idx1-ubyte.gz\n"
          ]
        },
        {
          "output_type": "stream",
          "name": "stderr",
          "text": [
            "100%|██████████| 4542/4542 [00:00<00:00, 6970555.71it/s]"
          ]
        },
        {
          "output_type": "stream",
          "name": "stdout",
          "text": [
            "Extracting data/MNIST/raw/t10k-labels-idx1-ubyte.gz to data/MNIST/raw\n",
            "\n"
          ]
        },
        {
          "output_type": "stream",
          "name": "stderr",
          "text": [
            "\n"
          ]
        }
      ],
      "source": [
        "import json\n",
        "import os\n",
        "import numpy as np\n",
        "import csv\n",
        "import easydict\n",
        "import cv2\n",
        "\n",
        "import torch\n",
        "import torch.nn as nn\n",
        "import torch.nn.functional as F\n",
        "from torch.utils.data import Dataset\n",
        "from torch.utils.data import DataLoader\n",
        "from torchvision import transforms\n",
        "from torchvision.utils import save_image\n",
        "from torch.autograd import Variable\n",
        "\n",
        "from PIL import Image\n",
        "\n",
        "from tqdm import tqdm\n",
        "import matplotlib.pyplot as plt\n",
        "from time import sleep\n",
        "from torchvision import datasets\n",
        "\n",
        "\n",
        "transform = transforms.Compose([\n",
        "        transforms.ToTensor(),\n",
        "        transforms.Normalize([0.5], [0.5])\n",
        "])\n",
        "\n",
        "# MNIST 데이터셋 로드\n",
        "train_loader = torch.utils.data.DataLoader(\n",
        "    datasets.MNIST('data', train=True, download=True, transform=transform),\n",
        "    batch_size=32, shuffle=True)\n",
        "\n",
        "# 모델 가중치 초기화\n",
        "def normal_init(m, mean, std):\n",
        "    if isinstance(m, nn.Linear):\n",
        "        m.weight.data.normal_(mean, std)\n",
        "        m.bias.data.zero_()"
      ]
    },
    {
      "cell_type": "code",
      "source": [
        "# Generator:\n",
        "\n",
        "class Generator(nn.Module):\n",
        "\n",
        "    def __init__(self):\n",
        "        super().__init__()\n",
        "        self.num_classes = 10 # 클래스 수, 10\n",
        "        self.nz = 100 # 노이즈 수, 100\n",
        "        self.input_size = (1,28,28)\n",
        "\n",
        "        self.leakyrelu = nn.LeakyReLU(0.2, inplace=True)\n",
        "\n",
        "        # noise와 label을 결합할 용도로 label embedding matrix 생성\n",
        "        self.label_emb = nn.Embedding(10, 10)\n",
        "        # 임베딩 파라미터를 선언한 후 forward -> (입력차원, 임베딩차원) 크기의 텐서가 출력\n",
        "        # 입력텐서는 임베딩 벡터를 추출할 범주의 인덱스이므로 정수타입(LongTensor)\n",
        "        # ex) forward 메소드에 (2,4) 크기의 텐서가 입력으로 들어가면 (2,4,10) 크기의 텐서가 출력\n",
        "\n",
        "        self.model = nn.Sequential(\n",
        "            nn.Linear(110, 256),\n",
        "            nn.LeakyReLU(0.2, inplace=True),\n",
        "            nn.Linear(256, 512),\n",
        "            nn.LeakyReLU(0.2, inplace=True),\n",
        "            nn.Linear(512, 1024),\n",
        "            nn.LeakyReLU(0.2, inplace=True),\n",
        "            nn.Linear(1024, 784),\n",
        "            nn.Tanh()\n",
        "        )\n",
        "\n",
        "\n",
        "    # weight_init: 정규분포를 따르는 랜덤한 값으로 모델 가중치 초기화\n",
        "    def weight_init(self, mean, std):\n",
        "        for m in self._modules:\n",
        "            normal_init(self._modules[m], mean, std)\n",
        "\n",
        "    # 순전파: input으로 noise(100차원의 벡터), label(10차원의 벡터)\n",
        "    def forward(self, input, label):\n",
        "        z = input.view(input.size(0), 100)  # noise(batch_size, 100)\n",
        "        c = self.label_emb(label)  # label이 임베딩됨\n",
        "        x = torch.cat([z, c], 1) # 임베딩 된 label과 noise를 결합함\n",
        "        out = self.model(x) # 신경망모델에 입력으로 전달하여 MNIST 이미지 생성\n",
        "        return out.view(x.size(0), 28, 28)"
      ],
      "metadata": {
        "id": "sWFf2VA6WoKX"
      },
      "execution_count": 2,
      "outputs": []
    },
    {
      "cell_type": "code",
      "source": [
        "class Discriminator(nn.Module):\n",
        "\n",
        "    def __init__(self):\n",
        "        super().__init__()\n",
        "        self.label_emb = nn.Embedding(10, 10) # 크기가 10인 embedding 행렬: label을 벡터로 변환\n",
        "\n",
        "        self.model = nn.Sequential(\n",
        "            nn.Linear(794, 1024),\n",
        "            nn.LeakyReLU(0.2, inplace=True),\n",
        "            nn.Dropout(0.3),\n",
        "            nn.Linear(1024, 512),\n",
        "            nn.LeakyReLU(0.2, inplace=True),\n",
        "            nn.Dropout(0.3),\n",
        "            nn.Linear(512, 256),\n",
        "            nn.LeakyReLU(0.2, inplace=True),\n",
        "            nn.Dropout(0.3),\n",
        "            nn.Linear(256, 1),\n",
        "            nn.Sigmoid()\n",
        "        )\n",
        "\n",
        "    # weight_init: 정규분포를 따르도록 모델의 가중치를 초기화\n",
        "    def weight_init(self, mean, std):\n",
        "        for m in self._modules:\n",
        "            normal_init(self._modules[m], mean, std)\n",
        "\n",
        "    # forward method\n",
        "    def forward(self, input, label):\n",
        "        x = input.view(input.size(0), 784) # input을 784차원의 벡터로 변환\n",
        "        c = self.label_emb(label) # label을 embedding하여 벡터화\n",
        "        x = torch.cat([x, c], 1) # input과 embedded label을 결합\n",
        "        out = self.model(x) # 이를 discriminator에 전달하여 출력 계산\n",
        "        return out.squeeze()"
      ],
      "metadata": {
        "id": "EvcbHcOZWrGT"
      },
      "execution_count": 3,
      "outputs": []
    },
    {
      "cell_type": "code",
      "source": [
        "generator = Generator().cuda()\n",
        "discriminator = Discriminator().cuda()\n",
        "\n",
        "criterion = nn.BCELoss() # loss function으로 bineary cross entroypy 사용\n",
        "d_optimizer = torch.optim.Adam(discriminator.parameters(), lr=1e-4)\n",
        "g_optimizer = torch.optim.Adam(generator.parameters(), lr=1e-4)\n",
        "\n",
        "\n",
        "def generator_train_step(batch_size, discriminator, generator, g_optimizer, criterion):\n",
        "    g_optimizer.zero_grad()\n",
        "    z = Variable(torch.randn(batch_size, 100)).cuda()\n",
        "\n",
        "    fake_labels = Variable(torch.LongTensor(np.random.randint(0, 10, batch_size))).cuda()  # 원-핫 벡터 아님\n",
        "    fake_images = generator(z, fake_labels)  # 가짜 이미지 생성\n",
        "\n",
        "    validity = discriminator(fake_images, fake_labels)\n",
        "    # discriminator에 가짜 이미지를 넣어 결과 출력.\n",
        "    # 가짜가 라벨과 같다라고 하면 1, 아니면 0\n",
        "\n",
        "    g_loss = criterion(validity, Variable(torch.ones(batch_size)).cuda())\n",
        "    # discriminator의 출력을 1로 채워져 있는 label과 비교\n",
        "    # 판별자가 가짜 이미지를 라벨과 같다 판단해서 1을 출력했다면 loss는 0에 가까워짐\n",
        "    # 이를 generator가 학습함\n",
        "    # 즉, 생성자는 판별자를 잘 속이는 방향(validity 가 1이 나오게)으로 학습\n",
        "    g_loss.backward()\n",
        "    g_optimizer.step()\n",
        "    return g_loss.item()\n",
        "\n",
        "\n",
        "\n",
        "def discriminator_train_step(batch_size, discriminator, generator, d_optimizer, criterion, real_images, labels):\n",
        "    d_optimizer.zero_grad()\n",
        "\n",
        "    # Train with real images\n",
        "    # 진짜 이미지와 label을 discriminator에 넣음\n",
        "    real_validity = discriminator(real_images, labels)\n",
        "    real_loss = criterion(real_validity, Variable(torch.ones(batch_size)).cuda())\n",
        "    # 판별자가 진짜 이미지를 진짜라고 맞추면 1을 출력하고 real_loss는 0이 됨\n",
        "\n",
        "    # Train with fake images\n",
        "    z = Variable(torch.randn(batch_size, 100)).cuda()  # 임의의 noise 생성\n",
        "    fake_labels = Variable(torch.LongTensor(np.random.randint(0, 10, batch_size))).cuda()\n",
        "\n",
        "    fake_images = generator(z, fake_labels) # noise와 임의의 label을 input으로 넣음\n",
        "\n",
        "    fake_validity = discriminator(fake_images, fake_labels)\n",
        "    # generator가 생성한 이미지와 임의의 라벨을 discriminator에 넣어서 결과 출력 (0~1)\n",
        "\n",
        "    fake_loss = criterion(fake_validity, Variable(torch.zeros(batch_size)).cuda())\n",
        "    # real_loss와 달리 torch.zeors를 사용해서 0으로 채워진 label을 줌\n",
        "    # discriminator가 img와 label이 같다고 판단하면 1을 출력, 아니면 0을 출력함.\n",
        "    # 판별자가 잘 맞췄을 때는 cross_entropy(1, 0) 이므로 fake_loss가 커짐\n",
        "    # 판별자가 진짜 이미지가 아닌 generator가 생성한 가짜 이미지를 진짜로 판단했으므로 loss가 커짐.\n",
        "\n",
        "    d_loss = real_loss + fake_loss\n",
        "    d_loss.backward()\n",
        "    d_optimizer.step()\n",
        "    return d_loss.item()\n",
        "\n",
        "\n",
        "\n",
        "from torchvision.utils import make_grid\n",
        "\n",
        "num_epochs = 100\n",
        "n_critic = 5\n",
        "display_step = 50\n",
        "batch_size = 32\n",
        "for epoch in range(num_epochs):\n",
        "    print('Starting epoch {}...'.format(epoch), end=' ')\n",
        "    for i, (images, labels) in enumerate(train_loader):\n",
        "\n",
        "        step = epoch * len(train_loader) + i + 1\n",
        "        real_images = Variable(images).cuda()\n",
        "        labels = Variable(labels).cuda()\n",
        "        generator.train()\n",
        "\n",
        "        d_loss = discriminator_train_step(len(real_images), discriminator,\n",
        "                                          generator, d_optimizer, criterion,\n",
        "                                          real_images, labels)\n",
        "\n",
        "\n",
        "        g_loss = generator_train_step(batch_size, discriminator, generator, g_optimizer, criterion)\n",
        "\n",
        "        #writer.add_scalars('scalars', {'g_loss': g_loss, 'd_loss': d_loss}, step)\n",
        "\n",
        "        if step % display_step == 0:\n",
        "            generator.eval()\n",
        "            z = Variable(torch.randn(9, 100)).cuda()\n",
        "            labels = Variable(torch.LongTensor(np.arange(9))).cuda()\n",
        "            sample_images = generator(z, labels).unsqueeze(1)\n",
        "            grid = make_grid(sample_images, nrow=3, normalize=True)\n",
        "         #   writer.add_image('sample_image', grid, step)\n",
        "    print('Done!')"
      ],
      "metadata": {
        "id": "acKyJ0FPWrKa",
        "colab": {
          "base_uri": "https://localhost:8080/"
        },
        "outputId": "0e8d6d43-38d7-4786-971a-fbdc2016d62d"
      },
      "execution_count": 4,
      "outputs": [
        {
          "output_type": "stream",
          "name": "stdout",
          "text": [
            "Starting epoch 0... Done!\n",
            "Starting epoch 1... Done!\n",
            "Starting epoch 2... Done!\n",
            "Starting epoch 3... Done!\n",
            "Starting epoch 4... Done!\n",
            "Starting epoch 5... Done!\n",
            "Starting epoch 6... Done!\n",
            "Starting epoch 7... Done!\n",
            "Starting epoch 8... Done!\n",
            "Starting epoch 9... Done!\n",
            "Starting epoch 10... Done!\n",
            "Starting epoch 11... Done!\n",
            "Starting epoch 12... Done!\n",
            "Starting epoch 13... Done!\n",
            "Starting epoch 14... Done!\n",
            "Starting epoch 15... Done!\n",
            "Starting epoch 16... Done!\n",
            "Starting epoch 17... Done!\n",
            "Starting epoch 18... Done!\n",
            "Starting epoch 19... Done!\n",
            "Starting epoch 20... Done!\n",
            "Starting epoch 21... Done!\n",
            "Starting epoch 22... Done!\n",
            "Starting epoch 23... Done!\n",
            "Starting epoch 24... Done!\n",
            "Starting epoch 25... Done!\n",
            "Starting epoch 26... Done!\n",
            "Starting epoch 27... Done!\n",
            "Starting epoch 28... Done!\n",
            "Starting epoch 29... Done!\n",
            "Starting epoch 30... Done!\n",
            "Starting epoch 31... Done!\n",
            "Starting epoch 32... Done!\n",
            "Starting epoch 33... Done!\n",
            "Starting epoch 34... Done!\n",
            "Starting epoch 35... Done!\n",
            "Starting epoch 36... Done!\n",
            "Starting epoch 37... Done!\n",
            "Starting epoch 38... Done!\n",
            "Starting epoch 39... Done!\n",
            "Starting epoch 40... Done!\n",
            "Starting epoch 41... Done!\n",
            "Starting epoch 42... Done!\n",
            "Starting epoch 43... Done!\n",
            "Starting epoch 44... Done!\n",
            "Starting epoch 45... Done!\n",
            "Starting epoch 46... Done!\n",
            "Starting epoch 47... Done!\n",
            "Starting epoch 48... Done!\n",
            "Starting epoch 49... Done!\n",
            "Starting epoch 50... Done!\n",
            "Starting epoch 51... Done!\n",
            "Starting epoch 52... Done!\n",
            "Starting epoch 53... Done!\n",
            "Starting epoch 54... Done!\n",
            "Starting epoch 55... Done!\n",
            "Starting epoch 56... Done!\n",
            "Starting epoch 57... Done!\n",
            "Starting epoch 58... Done!\n",
            "Starting epoch 59... Done!\n",
            "Starting epoch 60... Done!\n",
            "Starting epoch 61... Done!\n",
            "Starting epoch 62... Done!\n",
            "Starting epoch 63... Done!\n",
            "Starting epoch 64... Done!\n",
            "Starting epoch 65... Done!\n",
            "Starting epoch 66... Done!\n",
            "Starting epoch 67... Done!\n",
            "Starting epoch 68... Done!\n",
            "Starting epoch 69... Done!\n",
            "Starting epoch 70... Done!\n",
            "Starting epoch 71... Done!\n",
            "Starting epoch 72... Done!\n",
            "Starting epoch 73... Done!\n",
            "Starting epoch 74... Done!\n",
            "Starting epoch 75... Done!\n",
            "Starting epoch 76... Done!\n",
            "Starting epoch 77... Done!\n",
            "Starting epoch 78... Done!\n",
            "Starting epoch 79... Done!\n",
            "Starting epoch 80... Done!\n",
            "Starting epoch 81... Done!\n",
            "Starting epoch 82... Done!\n",
            "Starting epoch 83... Done!\n",
            "Starting epoch 84... Done!\n",
            "Starting epoch 85... Done!\n",
            "Starting epoch 86... Done!\n",
            "Starting epoch 87... Done!\n",
            "Starting epoch 88... Done!\n",
            "Starting epoch 89... Done!\n",
            "Starting epoch 90... Done!\n",
            "Starting epoch 91... Done!\n",
            "Starting epoch 92... Done!\n",
            "Starting epoch 93... Done!\n",
            "Starting epoch 94... Done!\n",
            "Starting epoch 95... Done!\n",
            "Starting epoch 96... Done!\n",
            "Starting epoch 97... Done!\n",
            "Starting epoch 98... Done!\n",
            "Starting epoch 99... Done!\n"
          ]
        }
      ]
    },
    {
      "cell_type": "code",
      "source": [
        "# 생성된 가짜 이미지를 그리드 형태로 시각화하여 출력\n",
        "\n",
        "images = generator(z, labels).unsqueeze(1)\n",
        "# 생성자에 입력으로 주어진 임의의 noise z와 labels를 사용하여 가짜 이미지 생성\n",
        "\n",
        "grid = make_grid(images, nrow=10, normalize=True) # 생성된 가짜 이미지들을 그리드 형태로 만듦\n",
        "\n",
        "fig, ax = plt.subplots(figsize=(10,10))\n",
        "ax.imshow(grid.permute(1, 2, 0).data.cpu(), cmap='binary')\n",
        "ax.axis('off')"
      ],
      "metadata": {
        "id": "7Z7y9R37WvYT",
        "colab": {
          "base_uri": "https://localhost:8080/",
          "height": 146
        },
        "outputId": "495418b6-d46b-4ae5-af7c-b2ad3539e71e"
      },
      "execution_count": 5,
      "outputs": [
        {
          "output_type": "execute_result",
          "data": {
            "text/plain": [
              "(-0.5, 271.5, 31.5, -0.5)"
            ]
          },
          "metadata": {},
          "execution_count": 5
        },
        {
          "output_type": "display_data",
          "data": {
            "text/plain": [
              "<Figure size 1000x1000 with 1 Axes>"
            ],
            "image/png": "[encoded data removed]"
          },
          "metadata": {}
        }
      ]
    }
  ]
}